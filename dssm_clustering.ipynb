{
 "cells": [
  {
   "cell_type": "code",
   "execution_count": 1,
   "id": "c69417ed",
   "metadata": {
    "_cell_guid": "b1076dfc-b9ad-4769-8c92-a6c4dae69d19",
    "_uuid": "8f2839f25d086af736a60e9eeb907d3b93b6e0e5",
    "execution": {
     "iopub.execute_input": "2022-11-27T11:23:59.405414Z",
     "iopub.status.busy": "2022-11-27T11:23:59.404500Z",
     "iopub.status.idle": "2022-11-27T11:24:01.120337Z",
     "shell.execute_reply": "2022-11-27T11:24:01.119332Z"
    },
    "papermill": {
     "duration": 1.72236,
     "end_time": "2022-11-27T11:24:01.122920",
     "exception": false,
     "start_time": "2022-11-27T11:23:59.400560",
     "status": "completed"
    },
    "tags": []
   },
   "outputs": [],
   "source": [
    "import torch.nn as nn\n",
    "import torch.nn.functional as F\n",
    "\n",
    "class DSSM(nn.Module):\n",
    "    def __init__(self, n_items, n_requests, embedding_dim, hidden_dim):\n",
    "        super().__init__()\n",
    "        self.embedding_items = nn.Embedding(n_items, embedding_dim)\n",
    "        self.embedding_requests = nn.Embedding(n_requests, embedding_dim)\n",
    "        \n",
    "        self.net1 = nn.Sequential(\n",
    "            nn.Linear(embedding_dim, hidden_dim),\n",
    "            nn.ReLU(),\n",
    "            nn.Linear(hidden_dim, hidden_dim),\n",
    "            nn.ReLU(),\n",
    "            nn.Linear(hidden_dim, hidden_dim),\n",
    "        )\n",
    "        \n",
    "        self.net2 = nn.Sequential(\n",
    "            nn.Linear(embedding_dim, hidden_dim),\n",
    "            nn.ReLU(),\n",
    "            nn.Linear(hidden_dim, hidden_dim),\n",
    "            nn.ReLU(),\n",
    "            nn.Linear(hidden_dim, hidden_dim),\n",
    "        )\n",
    "        \n",
    "        self.last = nn.Linear(2 * hidden_dim, 1)\n",
    "        \n",
    "    def forward(self, batch):\n",
    "        emb_1 = self.embedding_items(batch[0])\n",
    "        emb_2 = self.embedding_requests(batch[2])\n",
    "        hid_1 = self.net1(emb_1)\n",
    "        hid_2 = self.net2(emb_2)\n",
    "        hid = torch.cat((hid_1, hid_2), 1)\n",
    "        return self.last(hid)\n"
   ]
  },
  {
   "cell_type": "code",
   "execution_count": 2,
   "id": "ba73ed0f",
   "metadata": {
    "execution": {
     "iopub.execute_input": "2022-11-27T11:24:01.128571Z",
     "iopub.status.busy": "2022-11-27T11:24:01.128121Z",
     "iopub.status.idle": "2022-11-27T11:24:23.897126Z",
     "shell.execute_reply": "2022-11-27T11:24:23.896250Z"
    },
    "papermill": {
     "duration": 22.774178,
     "end_time": "2022-11-27T11:24:23.899190",
     "exception": false,
     "start_time": "2022-11-27T11:24:01.125012",
     "status": "completed"
    },
    "tags": []
   },
   "outputs": [
    {
     "data": {
      "text/plain": [
       "DSSM(\n",
       "  (embedding_items): Embedding(34132265, 16)\n",
       "  (embedding_requests): Embedding(209250, 16)\n",
       "  (net1): Sequential(\n",
       "    (0): Linear(in_features=16, out_features=64, bias=True)\n",
       "    (1): ReLU()\n",
       "    (2): Linear(in_features=64, out_features=64, bias=True)\n",
       "    (3): ReLU()\n",
       "    (4): Linear(in_features=64, out_features=64, bias=True)\n",
       "  )\n",
       "  (net2): Sequential(\n",
       "    (0): Linear(in_features=16, out_features=64, bias=True)\n",
       "    (1): ReLU()\n",
       "    (2): Linear(in_features=64, out_features=64, bias=True)\n",
       "    (3): ReLU()\n",
       "    (4): Linear(in_features=64, out_features=64, bias=True)\n",
       "  )\n",
       "  (last): Linear(in_features=128, out_features=1, bias=True)\n",
       ")"
      ]
     },
     "execution_count": 2,
     "metadata": {},
     "output_type": "execute_result"
    }
   ],
   "source": [
    "import torch\n",
    "device = torch.device('cuda:0' if torch.cuda.is_available() else 'cpu')\n",
    "\n",
    "model = torch.load('/kaggle/input/dssm-competition-training/model.pt').to(device)\n",
    "model"
   ]
  },
  {
   "cell_type": "code",
   "execution_count": 3,
   "id": "0f9d9269",
   "metadata": {
    "execution": {
     "iopub.execute_input": "2022-11-27T11:24:23.904685Z",
     "iopub.status.busy": "2022-11-27T11:24:23.904405Z",
     "iopub.status.idle": "2022-11-27T11:24:25.730219Z",
     "shell.execute_reply": "2022-11-27T11:24:25.729206Z"
    },
    "papermill": {
     "duration": 1.831395,
     "end_time": "2022-11-27T11:24:25.732851",
     "exception": false,
     "start_time": "2022-11-27T11:24:23.901456",
     "status": "completed"
    },
    "tags": []
   },
   "outputs": [],
   "source": [
    "emb_items = model.embedding_items.weight.cpu().detach().numpy()\n",
    "emb_requests = model.embedding_requests.weight.cpu().detach().numpy()"
   ]
  },
  {
   "cell_type": "code",
   "execution_count": 4,
   "id": "ab752bbb",
   "metadata": {
    "execution": {
     "iopub.execute_input": "2022-11-27T11:24:25.739732Z",
     "iopub.status.busy": "2022-11-27T11:24:25.738694Z"
    },
    "papermill": {
     "duration": 1914.563404,
     "end_time": "2022-11-27T11:56:20.298888",
     "exception": false,
     "start_time": "2022-11-27T11:24:25.735484",
     "status": "completed"
    },
    "tags": []
   },
   "outputs": [],
   "source": [
    "from sklearn.cluster import KMeans\n",
    "\n",
    "cluster_items = KMeans(400, max_iter=100).fit(emb_items).labels_\n",
    "cluster_requests = KMeans(400, max_iter=100).fit(emb_requests).labels_"
   ]
  },
  {
   "cell_type": "code",
   "execution_count": null,
   "id": "846a0837",
   "metadata": {
    "papermill": {
     "duration": null,
     "end_time": null,
     "exception": null,
     "start_time": null,
     "status": "completed"
    },
    "tags": []
   },
   "outputs": [],
   "source": [
    "import numpy as np\n",
    "\n",
    "np.save(cluster_items, 'cluster_items.npy')\n",
    "np.save(cluster_requests, 'cluster_requests.npy')\n"
   ]
  }
 ],
 "metadata": {
  "kernelspec": {
   "display_name": "Python 3",
   "language": "python",
   "name": "python3"
  },
  "language_info": {
   "codemirror_mode": {
    "name": "ipython",
    "version": 3
   },
   "file_extension": ".py",
   "mimetype": "text/x-python",
   "name": "python",
   "nbconvert_exporter": "python",
   "pygments_lexer": "ipython3",
   "version": "3.6.4"
  },
  "papermill": {
   "default_parameters": {},
   "duration": 1948.36915,
   "end_time": "2022-11-27T11:56:20.329444",
   "environment_variables": {},
   "exception": null,
   "input_path": "__notebook__.ipynb",
   "output_path": "__notebook__.ipynb",
   "parameters": {},
   "start_time": "2022-11-27T11:23:51.960294",
   "version": "2.3.4"
  }
 },
 "nbformat": 4,
 "nbformat_minor": 5
}
