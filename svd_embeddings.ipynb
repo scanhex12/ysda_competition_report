{
 "cells": [
  {
   "cell_type": "markdown",
   "id": "chubby-associate",
   "metadata": {},
   "source": [
    "## 1. Извлекаем простые эмбеддинги с помощью SVD"
   ]
  },
  {
   "cell_type": "code",
   "execution_count": 1,
   "id": "straight-warrant",
   "metadata": {},
   "outputs": [
    {
     "data": {
      "text/html": [
       "<div>\n",
       "<style scoped>\n",
       "    .dataframe tbody tr th:only-of-type {\n",
       "        vertical-align: middle;\n",
       "    }\n",
       "\n",
       "    .dataframe tbody tr th {\n",
       "        vertical-align: top;\n",
       "    }\n",
       "\n",
       "    .dataframe thead th {\n",
       "        text-align: right;\n",
       "    }\n",
       "</style>\n",
       "<table border=\"1\" class=\"dataframe\">\n",
       "  <thead>\n",
       "    <tr style=\"text-align: right;\">\n",
       "      <th></th>\n",
       "      <th>category_id</th>\n",
       "      <th>microcategory_id</th>\n",
       "      <th>item_id</th>\n",
       "      <th>event_type</th>\n",
       "      <th>source_event_type</th>\n",
       "      <th>request_id</th>\n",
       "      <th>location_id</th>\n",
       "      <th>event_age_seconds</th>\n",
       "    </tr>\n",
       "  </thead>\n",
       "  <tbody>\n",
       "    <tr>\n",
       "      <th>0</th>\n",
       "      <td>31</td>\n",
       "      <td>189</td>\n",
       "      <td>979366</td>\n",
       "      <td>0</td>\n",
       "      <td>0</td>\n",
       "      <td>136128</td>\n",
       "      <td>5215</td>\n",
       "      <td>2651288</td>\n",
       "    </tr>\n",
       "    <tr>\n",
       "      <th>1</th>\n",
       "      <td>31</td>\n",
       "      <td>6321</td>\n",
       "      <td>979366</td>\n",
       "      <td>2</td>\n",
       "      <td>8</td>\n",
       "      <td>136128</td>\n",
       "      <td>161</td>\n",
       "      <td>2651246</td>\n",
       "    </tr>\n",
       "    <tr>\n",
       "      <th>2</th>\n",
       "      <td>31</td>\n",
       "      <td>6321</td>\n",
       "      <td>979366</td>\n",
       "      <td>4</td>\n",
       "      <td>8</td>\n",
       "      <td>136128</td>\n",
       "      <td>5215</td>\n",
       "      <td>2651229</td>\n",
       "    </tr>\n",
       "    <tr>\n",
       "      <th>3</th>\n",
       "      <td>31</td>\n",
       "      <td>189</td>\n",
       "      <td>11420517</td>\n",
       "      <td>0</td>\n",
       "      <td>0</td>\n",
       "      <td>136128</td>\n",
       "      <td>5215</td>\n",
       "      <td>2651206</td>\n",
       "    </tr>\n",
       "    <tr>\n",
       "      <th>4</th>\n",
       "      <td>31</td>\n",
       "      <td>189</td>\n",
       "      <td>15674214</td>\n",
       "      <td>0</td>\n",
       "      <td>0</td>\n",
       "      <td>136128</td>\n",
       "      <td>5215</td>\n",
       "      <td>2651198</td>\n",
       "    </tr>\n",
       "    <tr>\n",
       "      <th>...</th>\n",
       "      <td>...</td>\n",
       "      <td>...</td>\n",
       "      <td>...</td>\n",
       "      <td>...</td>\n",
       "      <td>...</td>\n",
       "      <td>...</td>\n",
       "      <td>...</td>\n",
       "      <td>...</td>\n",
       "    </tr>\n",
       "    <tr>\n",
       "      <th>1470078</th>\n",
       "      <td>20</td>\n",
       "      <td>121</td>\n",
       "      <td>1946860</td>\n",
       "      <td>0</td>\n",
       "      <td>2</td>\n",
       "      <td>32097</td>\n",
       "      <td>5607</td>\n",
       "      <td>250743</td>\n",
       "    </tr>\n",
       "    <tr>\n",
       "      <th>1470079</th>\n",
       "      <td>20</td>\n",
       "      <td>135</td>\n",
       "      <td>9698131</td>\n",
       "      <td>0</td>\n",
       "      <td>3</td>\n",
       "      <td>32097</td>\n",
       "      <td>5607</td>\n",
       "      <td>250610</td>\n",
       "    </tr>\n",
       "    <tr>\n",
       "      <th>1470080</th>\n",
       "      <td>20</td>\n",
       "      <td>135</td>\n",
       "      <td>9698131</td>\n",
       "      <td>0</td>\n",
       "      <td>3</td>\n",
       "      <td>32097</td>\n",
       "      <td>5607</td>\n",
       "      <td>250569</td>\n",
       "    </tr>\n",
       "    <tr>\n",
       "      <th>1470081</th>\n",
       "      <td>20</td>\n",
       "      <td>135</td>\n",
       "      <td>1214040</td>\n",
       "      <td>0</td>\n",
       "      <td>4</td>\n",
       "      <td>32097</td>\n",
       "      <td>5616</td>\n",
       "      <td>250495</td>\n",
       "    </tr>\n",
       "    <tr>\n",
       "      <th>1470082</th>\n",
       "      <td>36</td>\n",
       "      <td>12</td>\n",
       "      <td>16876592</td>\n",
       "      <td>0</td>\n",
       "      <td>2</td>\n",
       "      <td>32097</td>\n",
       "      <td>5607</td>\n",
       "      <td>2754728</td>\n",
       "    </tr>\n",
       "  </tbody>\n",
       "</table>\n",
       "<p>68268934 rows × 8 columns</p>\n",
       "</div>"
      ],
      "text/plain": [
       "         category_id  microcategory_id   item_id  event_type  \\\n",
       "0                 31               189    979366           0   \n",
       "1                 31              6321    979366           2   \n",
       "2                 31              6321    979366           4   \n",
       "3                 31               189  11420517           0   \n",
       "4                 31               189  15674214           0   \n",
       "...              ...               ...       ...         ...   \n",
       "1470078           20               121   1946860           0   \n",
       "1470079           20               135   9698131           0   \n",
       "1470080           20               135   9698131           0   \n",
       "1470081           20               135   1214040           0   \n",
       "1470082           36                12  16876592           0   \n",
       "\n",
       "         source_event_type  request_id  location_id  event_age_seconds  \n",
       "0                        0      136128         5215            2651288  \n",
       "1                        8      136128          161            2651246  \n",
       "2                        8      136128         5215            2651229  \n",
       "3                        0      136128         5215            2651206  \n",
       "4                        0      136128         5215            2651198  \n",
       "...                    ...         ...          ...                ...  \n",
       "1470078                  2       32097         5607             250743  \n",
       "1470079                  3       32097         5607             250610  \n",
       "1470080                  3       32097         5607             250569  \n",
       "1470081                  4       32097         5616             250495  \n",
       "1470082                  2       32097         5607            2754728  \n",
       "\n",
       "[68268934 rows x 8 columns]"
      ]
     },
     "execution_count": 1,
     "metadata": {},
     "output_type": "execute_result"
    }
   ],
   "source": [
    "import pandas as pd\n",
    "import numpy as np\n",
    "\n",
    "df_history = pd.read_parquet('history_train.pq')\n",
    "df_history"
   ]
  },
  {
   "cell_type": "code",
   "execution_count": 2,
   "id": "adapted-leonard",
   "metadata": {},
   "outputs": [
    {
     "data": {
      "text/plain": [
       "139324"
      ]
     },
     "execution_count": 2,
     "metadata": {},
     "output_type": "execute_result"
    }
   ],
   "source": [
    "len(df_history['request_id'].unique())"
   ]
  },
  {
   "cell_type": "code",
   "execution_count": 4,
   "id": "theoretical-reporter",
   "metadata": {},
   "outputs": [],
   "source": [
    "from scipy.sparse import csc_matrix\n",
    "\n",
    "row = df_history['request_id'].values\n",
    "col = df_history['item_id'].values\n",
    "data = df_history['event_type'].values\n",
    "\n",
    "sparse_history_matrix = csc_matrix((data, (row, col)), shape=(max(row) + 1, max(col) + 1), dtype=float)"
   ]
  },
  {
   "cell_type": "code",
   "execution_count": 5,
   "id": "independent-cooperative",
   "metadata": {},
   "outputs": [],
   "source": [
    "from scipy.sparse.linalg import svds\n",
    "\n",
    "u, s, vT = svds(sparse_history_matrix)"
   ]
  },
  {
   "cell_type": "code",
   "execution_count": 7,
   "id": "controlled-craft",
   "metadata": {},
   "outputs": [
    {
     "data": {
      "text/plain": [
       "(209251, 6)"
      ]
     },
     "execution_count": 7,
     "metadata": {},
     "output_type": "execute_result"
    }
   ],
   "source": [
    "u.shape"
   ]
  },
  {
   "cell_type": "code",
   "execution_count": 8,
   "id": "divided-falls",
   "metadata": {},
   "outputs": [
    {
     "data": {
      "text/plain": [
       "(6, 34132266)"
      ]
     },
     "execution_count": 8,
     "metadata": {},
     "output_type": "execute_result"
    }
   ],
   "source": [
    "vT.shape"
   ]
  },
  {
   "cell_type": "code",
   "execution_count": 9,
   "id": "agreed-creation",
   "metadata": {},
   "outputs": [
    {
     "data": {
      "text/plain": [
       "209250"
      ]
     },
     "execution_count": 9,
     "metadata": {},
     "output_type": "execute_result"
    }
   ],
   "source": [
    "max(row)"
   ]
  },
  {
   "cell_type": "code",
   "execution_count": 11,
   "id": "sufficient-address",
   "metadata": {},
   "outputs": [],
   "source": [
    "np.save('items_embeddings_baseline.npy', u)\n",
    "np.save('requests_embeddings_baseline.npy', vT.T)"
   ]
  },
  {
   "cell_type": "code",
   "execution_count": null,
   "id": "emotional-october",
   "metadata": {},
   "outputs": [],
   "source": []
  }
 ],
 "metadata": {
  "kernelspec": {
   "display_name": "Python 3",
   "language": "python",
   "name": "python3"
  },
  "language_info": {
   "codemirror_mode": {
    "name": "ipython",
    "version": 3
   },
   "file_extension": ".py",
   "mimetype": "text/x-python",
   "name": "python",
   "nbconvert_exporter": "python",
   "pygments_lexer": "ipython3",
   "version": "3.8.10"
  }
 },
 "nbformat": 4,
 "nbformat_minor": 5
}
