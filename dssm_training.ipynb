{
 "cells": [
  {
   "cell_type": "code",
   "execution_count": 1,
   "id": "4dff2252",
   "metadata": {
    "_cell_guid": "b1076dfc-b9ad-4769-8c92-a6c4dae69d19",
    "_uuid": "8f2839f25d086af736a60e9eeb907d3b93b6e0e5",
    "execution": {
     "iopub.execute_input": "2022-11-26T16:26:42.980109Z",
     "iopub.status.busy": "2022-11-26T16:26:42.979594Z",
     "iopub.status.idle": "2022-11-26T16:27:02.792524Z",
     "shell.execute_reply": "2022-11-26T16:27:02.791569Z"
    },
    "papermill": {
     "duration": 19.821512,
     "end_time": "2022-11-26T16:27:02.795347",
     "exception": false,
     "start_time": "2022-11-26T16:26:42.973835",
     "status": "completed"
    },
    "tags": []
   },
   "outputs": [
    {
     "data": {
      "text/html": [
       "<div>\n",
       "<style scoped>\n",
       "    .dataframe tbody tr th:only-of-type {\n",
       "        vertical-align: middle;\n",
       "    }\n",
       "\n",
       "    .dataframe tbody tr th {\n",
       "        vertical-align: top;\n",
       "    }\n",
       "\n",
       "    .dataframe thead th {\n",
       "        text-align: right;\n",
       "    }\n",
       "</style>\n",
       "<table border=\"1\" class=\"dataframe\">\n",
       "  <thead>\n",
       "    <tr style=\"text-align: right;\">\n",
       "      <th></th>\n",
       "      <th>category_id</th>\n",
       "      <th>microcategory_id</th>\n",
       "      <th>item_id</th>\n",
       "      <th>event_type</th>\n",
       "      <th>source_event_type</th>\n",
       "      <th>request_id</th>\n",
       "      <th>location_id</th>\n",
       "      <th>event_age_seconds</th>\n",
       "    </tr>\n",
       "  </thead>\n",
       "  <tbody>\n",
       "    <tr>\n",
       "      <th>0</th>\n",
       "      <td>31</td>\n",
       "      <td>189</td>\n",
       "      <td>979366</td>\n",
       "      <td>0</td>\n",
       "      <td>0</td>\n",
       "      <td>136128</td>\n",
       "      <td>5215</td>\n",
       "      <td>2651288</td>\n",
       "    </tr>\n",
       "    <tr>\n",
       "      <th>1</th>\n",
       "      <td>31</td>\n",
       "      <td>6321</td>\n",
       "      <td>979366</td>\n",
       "      <td>2</td>\n",
       "      <td>8</td>\n",
       "      <td>136128</td>\n",
       "      <td>161</td>\n",
       "      <td>2651246</td>\n",
       "    </tr>\n",
       "    <tr>\n",
       "      <th>2</th>\n",
       "      <td>31</td>\n",
       "      <td>6321</td>\n",
       "      <td>979366</td>\n",
       "      <td>4</td>\n",
       "      <td>8</td>\n",
       "      <td>136128</td>\n",
       "      <td>5215</td>\n",
       "      <td>2651229</td>\n",
       "    </tr>\n",
       "    <tr>\n",
       "      <th>3</th>\n",
       "      <td>31</td>\n",
       "      <td>189</td>\n",
       "      <td>11420517</td>\n",
       "      <td>0</td>\n",
       "      <td>0</td>\n",
       "      <td>136128</td>\n",
       "      <td>5215</td>\n",
       "      <td>2651206</td>\n",
       "    </tr>\n",
       "    <tr>\n",
       "      <th>4</th>\n",
       "      <td>31</td>\n",
       "      <td>189</td>\n",
       "      <td>15674214</td>\n",
       "      <td>0</td>\n",
       "      <td>0</td>\n",
       "      <td>136128</td>\n",
       "      <td>5215</td>\n",
       "      <td>2651198</td>\n",
       "    </tr>\n",
       "  </tbody>\n",
       "</table>\n",
       "</div>"
      ],
      "text/plain": [
       "   category_id  microcategory_id   item_id  event_type  source_event_type  \\\n",
       "0           31               189    979366           0                  0   \n",
       "1           31              6321    979366           2                  8   \n",
       "2           31              6321    979366           4                  8   \n",
       "3           31               189  11420517           0                  0   \n",
       "4           31               189  15674214           0                  0   \n",
       "\n",
       "   request_id  location_id  event_age_seconds  \n",
       "0      136128         5215            2651288  \n",
       "1      136128          161            2651246  \n",
       "2      136128         5215            2651229  \n",
       "3      136128         5215            2651206  \n",
       "4      136128         5215            2651198  "
      ]
     },
     "execution_count": 1,
     "metadata": {},
     "output_type": "execute_result"
    }
   ],
   "source": [
    "import pandas as pd\n",
    "\n",
    "df_history = pd.read_parquet(\"/kaggle/input/copy-of-ml-1-shad-fall-2022/history_train.pq\")\n",
    "df_history.head(5)"
   ]
  },
  {
   "cell_type": "code",
   "execution_count": null,
   "id": "5e5f0ad9",
   "metadata": {
    "papermill": {
     "duration": 0.003107,
     "end_time": "2022-11-26T16:27:02.802073",
     "exception": false,
     "start_time": "2022-11-26T16:27:02.798966",
     "status": "completed"
    },
    "tags": []
   },
   "outputs": [],
   "source": []
  },
  {
   "cell_type": "code",
   "execution_count": 2,
   "id": "07a3e227",
   "metadata": {
    "execution": {
     "iopub.execute_input": "2022-11-26T16:27:02.809961Z",
     "iopub.status.busy": "2022-11-26T16:27:02.809393Z",
     "iopub.status.idle": "2022-11-26T16:27:04.788811Z",
     "shell.execute_reply": "2022-11-26T16:27:04.787763Z"
    },
    "papermill": {
     "duration": 1.986061,
     "end_time": "2022-11-26T16:27:04.791301",
     "exception": false,
     "start_time": "2022-11-26T16:27:02.805240",
     "status": "completed"
    },
    "tags": []
   },
   "outputs": [],
   "source": [
    "import torch\n",
    "\n",
    "class HistoryDataset(torch.utils.data.Dataset):\n",
    "    def __init__(self, df):\n",
    "        self.history_df = df\n",
    "        \n",
    "    def __getitem__(self, index):\n",
    "        return self.history_df['item_id'].iloc[index], \\\n",
    "               self.history_df['source_event_type'].iloc[index], \\\n",
    "               self.history_df['request_id'].iloc[index]\n",
    "    \n",
    "    def __len__(self):\n",
    "        return self.history_df.shape[0]\n",
    "\n",
    "dataset = HistoryDataset(df_history)"
   ]
  },
  {
   "cell_type": "code",
   "execution_count": 3,
   "id": "c9672bcd",
   "metadata": {
    "execution": {
     "iopub.execute_input": "2022-11-26T16:27:04.799679Z",
     "iopub.status.busy": "2022-11-26T16:27:04.799232Z",
     "iopub.status.idle": "2022-11-26T16:27:04.804404Z",
     "shell.execute_reply": "2022-11-26T16:27:04.803537Z"
    },
    "papermill": {
     "duration": 0.011629,
     "end_time": "2022-11-26T16:27:04.806473",
     "exception": false,
     "start_time": "2022-11-26T16:27:04.794844",
     "status": "completed"
    },
    "tags": []
   },
   "outputs": [],
   "source": [
    "loader = torch.utils.data.DataLoader(dataset, batch_size=16, shuffle=False)"
   ]
  },
  {
   "cell_type": "code",
   "execution_count": 4,
   "id": "f2788fda",
   "metadata": {
    "execution": {
     "iopub.execute_input": "2022-11-26T16:27:04.814501Z",
     "iopub.status.busy": "2022-11-26T16:27:04.813659Z",
     "iopub.status.idle": "2022-11-26T16:27:04.825228Z",
     "shell.execute_reply": "2022-11-26T16:27:04.824277Z"
    },
    "papermill": {
     "duration": 0.017503,
     "end_time": "2022-11-26T16:27:04.827145",
     "exception": false,
     "start_time": "2022-11-26T16:27:04.809642",
     "status": "completed"
    },
    "tags": []
   },
   "outputs": [
    {
     "data": {
      "text/plain": [
       "[tensor([  979366,   979366,   979366, 11420517, 15674214,  7843485,  7843485,\n",
       "           979366,   979366,   979366,   979366, 28916079, 20655306,   979366,\n",
       "         27061492, 15190380]),\n",
       " tensor([0, 8, 8, 0, 0, 0, 0, 1, 8, 1, 1, 2, 2, 8, 7, 2]),\n",
       " tensor([136128, 136128, 136128, 136128, 136128, 136128, 136128, 136128, 136128,\n",
       "         136128, 136128, 136128, 136128, 136128, 136128, 136128])]"
      ]
     },
     "execution_count": 4,
     "metadata": {},
     "output_type": "execute_result"
    }
   ],
   "source": [
    "for batch in loader:\n",
    "    break\n",
    "batch"
   ]
  },
  {
   "cell_type": "code",
   "execution_count": 5,
   "id": "8a90ab24",
   "metadata": {
    "execution": {
     "iopub.execute_input": "2022-11-26T16:27:04.835275Z",
     "iopub.status.busy": "2022-11-26T16:27:04.834510Z",
     "iopub.status.idle": "2022-11-26T16:27:04.843549Z",
     "shell.execute_reply": "2022-11-26T16:27:04.842768Z"
    },
    "papermill": {
     "duration": 0.014855,
     "end_time": "2022-11-26T16:27:04.845326",
     "exception": false,
     "start_time": "2022-11-26T16:27:04.830471",
     "status": "completed"
    },
    "tags": []
   },
   "outputs": [],
   "source": [
    "import torch.nn as nn\n",
    "import torch.nn.functional as F\n",
    "\n",
    "class DSSM(nn.Module):\n",
    "    def __init__(self, n_items, n_requests, embedding_dim, hidden_dim):\n",
    "        super().__init__()\n",
    "        self.embedding_items = nn.Embedding(n_items, embedding_dim)\n",
    "        self.embedding_requests = nn.Embedding(n_requests, embedding_dim)\n",
    "        \n",
    "        self.net1 = nn.Sequential(\n",
    "            nn.Linear(embedding_dim, hidden_dim),\n",
    "            nn.ReLU(),\n",
    "            nn.Linear(hidden_dim, hidden_dim),\n",
    "            nn.ReLU(),\n",
    "            nn.Linear(hidden_dim, hidden_dim),\n",
    "        )\n",
    "        \n",
    "        self.net2 = nn.Sequential(\n",
    "            nn.Linear(embedding_dim, hidden_dim),\n",
    "            nn.ReLU(),\n",
    "            nn.Linear(hidden_dim, hidden_dim),\n",
    "            nn.ReLU(),\n",
    "            nn.Linear(hidden_dim, hidden_dim),\n",
    "        )\n",
    "        \n",
    "        self.last = nn.Linear(2 * hidden_dim, 1)\n",
    "        \n",
    "    def forward(self, batch):\n",
    "        emb_1 = self.embedding_items(batch[0])\n",
    "        emb_2 = self.embedding_requests(batch[2])\n",
    "        hid_1 = self.net1(emb_1)\n",
    "        hid_2 = self.net2(emb_2)\n",
    "        hid = torch.cat((hid_1, hid_2), 1)\n",
    "        return self.last(hid)"
   ]
  },
  {
   "cell_type": "code",
   "execution_count": 6,
   "id": "21fc8e4d",
   "metadata": {
    "execution": {
     "iopub.execute_input": "2022-11-26T16:27:04.853241Z",
     "iopub.status.busy": "2022-11-26T16:27:04.852608Z",
     "iopub.status.idle": "2022-11-26T16:27:04.917061Z",
     "shell.execute_reply": "2022-11-26T16:27:04.916233Z"
    },
    "papermill": {
     "duration": 0.070585,
     "end_time": "2022-11-26T16:27:04.919310",
     "exception": false,
     "start_time": "2022-11-26T16:27:04.848725",
     "status": "completed"
    },
    "tags": []
   },
   "outputs": [
    {
     "data": {
      "text/plain": [
       "device(type='cuda', index=0)"
      ]
     },
     "execution_count": 6,
     "metadata": {},
     "output_type": "execute_result"
    }
   ],
   "source": [
    "device = torch.device('cuda:0' if torch.cuda.is_available() else 'cpu')\n",
    "device"
   ]
  },
  {
   "cell_type": "code",
   "execution_count": 7,
   "id": "aa3bb1e0",
   "metadata": {
    "execution": {
     "iopub.execute_input": "2022-11-26T16:27:04.927576Z",
     "iopub.status.busy": "2022-11-26T16:27:04.926884Z",
     "iopub.status.idle": "2022-11-26T16:27:23.363483Z",
     "shell.execute_reply": "2022-11-26T16:27:23.362493Z"
    },
    "papermill": {
     "duration": 18.443368,
     "end_time": "2022-11-26T16:27:23.366106",
     "exception": false,
     "start_time": "2022-11-26T16:27:04.922738",
     "status": "completed"
    },
    "tags": []
   },
   "outputs": [],
   "source": [
    "model = torch.load('/kaggle/input/dssm-competition-training/model.pt').to(device)\n",
    "criterion = nn.MSELoss()\n",
    "optimizer = torch.optim.Adam(model.parameters(), lr = 1e-3)"
   ]
  },
  {
   "cell_type": "code",
   "execution_count": 8,
   "id": "5afe7370",
   "metadata": {
    "execution": {
     "iopub.execute_input": "2022-11-26T16:27:23.375123Z",
     "iopub.status.busy": "2022-11-26T16:27:23.374495Z",
     "iopub.status.idle": "2022-11-26T16:27:23.379541Z",
     "shell.execute_reply": "2022-11-26T16:27:23.378674Z"
    },
    "papermill": {
     "duration": 0.011534,
     "end_time": "2022-11-26T16:27:23.381549",
     "exception": false,
     "start_time": "2022-11-26T16:27:23.370015",
     "status": "completed"
    },
    "tags": []
   },
   "outputs": [],
   "source": [
    "import os\n",
    "\n",
    "os.environ['CUDA_LAUNCH_BLOCKING']=\"1\""
   ]
  },
  {
   "cell_type": "code",
   "execution_count": 9,
   "id": "c84a83ba",
   "metadata": {
    "execution": {
     "iopub.execute_input": "2022-11-26T16:27:23.391359Z",
     "iopub.status.busy": "2022-11-26T16:27:23.389789Z",
     "iopub.status.idle": "2022-11-26T16:27:23.396280Z",
     "shell.execute_reply": "2022-11-26T16:27:23.395321Z"
    },
    "papermill": {
     "duration": 0.013047,
     "end_time": "2022-11-26T16:27:23.398273",
     "exception": false,
     "start_time": "2022-11-26T16:27:23.385226",
     "status": "completed"
    },
    "tags": []
   },
   "outputs": [
    {
     "data": {
      "text/plain": [
       "53335"
      ]
     },
     "execution_count": 9,
     "metadata": {},
     "output_type": "execute_result"
    }
   ],
   "source": [
    "1066703 // 20"
   ]
  },
  {
   "cell_type": "code",
   "execution_count": 10,
   "id": "bcb56e43",
   "metadata": {
    "execution": {
     "iopub.execute_input": "2022-11-26T16:27:23.406392Z",
     "iopub.status.busy": "2022-11-26T16:27:23.406143Z",
     "iopub.status.idle": "2022-11-26T18:22:12.405384Z",
     "shell.execute_reply": "2022-11-26T18:22:12.404445Z"
    },
    "papermill": {
     "duration": 6889.005669,
     "end_time": "2022-11-26T18:22:12.407456",
     "exception": false,
     "start_time": "2022-11-26T16:27:23.401787",
     "status": "completed"
    },
    "tags": []
   },
   "outputs": [
    {
     "data": {
      "application/vnd.jupyter.widget-view+json": {
       "model_id": "716d6584fc7f4b5c9901cba66ee23d51",
       "version_major": 2,
       "version_minor": 0
      },
      "text/plain": [
       "0it [00:00, ?it/s]"
      ]
     },
     "metadata": {},
     "output_type": "display_data"
    },
    {
     "name": "stdout",
     "output_type": "stream",
     "text": [
      "0\n",
      "2000\n",
      "4000\n",
      "6000\n",
      "8000\n",
      "10000\n",
      "12000\n",
      "14000\n",
      "16000\n",
      "18000\n",
      "20000\n",
      "22000\n",
      "24000\n",
      "26000\n",
      "28000\n",
      "30000\n",
      "32000\n",
      "34000\n",
      "36000\n",
      "38000\n",
      "40000\n",
      "42000\n",
      "44000\n",
      "46000\n",
      "48000\n",
      "50000\n",
      "52000\n",
      "54000\n",
      "56000\n",
      "58000\n",
      "60000\n",
      "62000\n"
     ]
    }
   ],
   "source": [
    "from tqdm.auto import tqdm\n",
    "\n",
    "losses = []\n",
    "pbar = tqdm(enumerate(loader))\n",
    "\n",
    "iterations = 1066703 // 17\n",
    "save_model_iter = 2000\n",
    "\n",
    "\n",
    "for i, batch in pbar:\n",
    "    if i >= iterations:\n",
    "        break\n",
    "    if i % save_model_iter == 0:\n",
    "        print(i)\n",
    "        torch.save(model, 'model.pt')\n",
    "    optimizer.zero_grad()\n",
    "    for i in range(3):\n",
    "        batch[i] = batch[i].to(device)\n",
    "    output = model(batch)\n",
    "    loss = criterion(output.reshape(-1), batch[1].to(device) + 0.0)\n",
    "    loss.backward()\n",
    "    losses.append(loss.item())\n",
    "    pbar.set_description(f\"loss train: {loss.item()}\")\n",
    "    optimizer.step()"
   ]
  },
  {
   "cell_type": "code",
   "execution_count": 11,
   "id": "291f7e6a",
   "metadata": {
    "execution": {
     "iopub.execute_input": "2022-11-26T18:22:12.421735Z",
     "iopub.status.busy": "2022-11-26T18:22:12.420116Z",
     "iopub.status.idle": "2022-11-26T18:22:12.661834Z",
     "shell.execute_reply": "2022-11-26T18:22:12.660932Z"
    },
    "papermill": {
     "duration": 0.250584,
     "end_time": "2022-11-26T18:22:12.663795",
     "exception": false,
     "start_time": "2022-11-26T18:22:12.413211",
     "status": "completed"
    },
    "tags": []
   },
   "outputs": [
    {
     "data": {
      "text/plain": [
       "[<matplotlib.lines.Line2D at 0x7fa888732c10>]"
      ]
     },
     "execution_count": 11,
     "metadata": {},
     "output_type": "execute_result"
    },
    {
     "data": {
      "image/png": "[encoded data removed]",
      "text/plain": [
       "<Figure size 432x288 with 1 Axes>"
      ]
     },
     "metadata": {
      "needs_background": "light"
     },
     "output_type": "display_data"
    }
   ],
   "source": [
    "import matplotlib.pyplot as plt\n",
    "import numpy as np\n",
    "\n",
    "\n",
    "def mean_window(arr, window_size):\n",
    "    answers = []\n",
    "    for i in range(len(arr) // window_size - 1):\n",
    "        start_ind = i * window_size\n",
    "        end_ind = start_ind + window_size\n",
    "        answers.append(sum(arr[start_ind:end_ind]) / window_size)\n",
    "    return answers\n",
    "\n",
    "mean_losses = mean_window(losses, 100)\n",
    "plt.plot(np.arange(len(mean_losses)), mean_losses)"
   ]
  },
  {
   "cell_type": "code",
   "execution_count": null,
   "id": "8cee3cb5",
   "metadata": {
    "papermill": {
     "duration": 0.005441,
     "end_time": "2022-11-26T18:22:12.675060",
     "exception": false,
     "start_time": "2022-11-26T18:22:12.669619",
     "status": "completed"
    },
    "tags": []
   },
   "outputs": [],
   "source": []
  }
 ],
 "metadata": {
  "kernelspec": {
   "display_name": "Python 3",
   "language": "python",
   "name": "python3"
  },
  "language_info": {
   "codemirror_mode": {
    "name": "ipython",
    "version": 3
   },
   "file_extension": ".py",
   "mimetype": "text/x-python",
   "name": "python",
   "nbconvert_exporter": "python",
   "pygments_lexer": "ipython3",
   "version": "3.7.12"
  },
  "papermill": {
   "default_parameters": {},
   "duration": 6938.85973,
   "end_time": "2022-11-26T18:22:14.018343",
   "environment_variables": {},
   "exception": null,
   "input_path": "__notebook__.ipynb",
   "output_path": "__notebook__.ipynb",
   "parameters": {},
   "start_time": "2022-11-26T16:26:35.158613",
   "version": "2.3.4"
  },
  "widgets": {
   "application/vnd.jupyter.widget-state+json": {
    "state": {
     "02d84f29d93044f794062b93e2267751": {
      "model_module": "@jupyter-widgets/controls",
      "model_module_version": "1.5.0",
      "model_name": "ProgressStyleModel",
      "state": {
       "_model_module": "@jupyter-widgets/controls",
       "_model_module_version": "1.5.0",
       "_model_name": "ProgressStyleModel",
       "_view_count": null,
       "_view_module": "@jupyter-widgets/base",
       "_view_module_version": "1.2.0",
       "_view_name": "StyleView",
       "bar_color": null,
       "description_width": ""
      }
     },
     "076ec8bf9ef24399a6dda341369a80ee": {
      "model_module": "@jupyter-widgets/base",
      "model_module_version": "1.2.0",
      "model_name": "LayoutModel",
      "state": {
       "_model_module": "@jupyter-widgets/base",
       "_model_module_version": "1.2.0",
       "_model_name": "LayoutModel",
       "_view_count": null,
       "_view_module": "@jupyter-widgets/base",
       "_view_module_version": "1.2.0",
       "_view_name": "LayoutView",
       "align_content": null,
       "align_items": null,
       "align_self": null,
       "border": null,
       "bottom": null,
       "display": null,
       "flex": null,
       "flex_flow": null,
       "grid_area": null,
       "grid_auto_columns": null,
       "grid_auto_flow": null,
       "grid_auto_rows": null,
       "grid_column": null,
       "grid_gap": null,
       "grid_row": null,
       "grid_template_areas": null,
       "grid_template_columns": null,
       "grid_template_rows": null,
       "height": null,
       "justify_content": null,
       "justify_items": null,
       "left": null,
       "margin": null,
       "max_height": null,
       "max_width": null,
       "min_height": null,
       "min_width": null,
       "object_fit": null,
       "object_position": null,
       "order": null,
       "overflow": null,
       "overflow_x": null,
       "overflow_y": null,
       "padding": null,
       "right": null,
       "top": null,
       "visibility": null,
       "width": "20px"
      }
     },
     "35b13cae0b4a4537a2b8b3b4e2c7759e": {
      "model_module": "@jupyter-widgets/controls",
      "model_module_version": "1.5.0",
      "model_name": "FloatProgressModel",
      "state": {
       "_dom_classes": [],
       "_model_module": "@jupyter-widgets/controls",
       "_model_module_version": "1.5.0",
       "_model_name": "FloatProgressModel",
       "_view_count": null,
       "_view_module": "@jupyter-widgets/controls",
       "_view_module_version": "1.5.0",
       "_view_name": "ProgressView",
       "bar_style": "danger",
       "description": "",
       "description_tooltip": null,
       "layout": "IPY_MODEL_076ec8bf9ef24399a6dda341369a80ee",
       "max": 1.0,
       "min": 0.0,
       "orientation": "horizontal",
       "style": "IPY_MODEL_02d84f29d93044f794062b93e2267751",
       "value": 1.0
      }
     },
     "6a24b1a8ab2943d7af8ab6a2454436d9": {
      "model_module": "@jupyter-widgets/controls",
      "model_module_version": "1.5.0",
      "model_name": "HTMLModel",
      "state": {
       "_dom_classes": [],
       "_model_module": "@jupyter-widgets/controls",
       "_model_module_version": "1.5.0",
       "_model_name": "HTMLModel",
       "_view_count": null,
       "_view_module": "@jupyter-widgets/controls",
       "_view_module_version": "1.5.0",
       "_view_name": "HTMLView",
       "description": "",
       "description_tooltip": null,
       "layout": "IPY_MODEL_e4fb8306aebb4f11bba80956e0d70eb0",
       "placeholder": "​",
       "style": "IPY_MODEL_8d9edbebf8804939965ff93b9d9aa747",
       "value": " 62747/? [1:54:48&lt;00:00,  9.80it/s]"
      }
     },
     "716d6584fc7f4b5c9901cba66ee23d51": {
      "model_module": "@jupyter-widgets/controls",
      "model_module_version": "1.5.0",
      "model_name": "HBoxModel",
      "state": {
       "_dom_classes": [],
       "_model_module": "@jupyter-widgets/controls",
       "_model_module_version": "1.5.0",
       "_model_name": "HBoxModel",
       "_view_count": null,
       "_view_module": "@jupyter-widgets/controls",
       "_view_module_version": "1.5.0",
       "_view_name": "HBoxView",
       "box_style": "",
       "children": [
        "IPY_MODEL_8e1ee14c62f04f43957ef6560f0b61eb",
        "IPY_MODEL_35b13cae0b4a4537a2b8b3b4e2c7759e",
        "IPY_MODEL_6a24b1a8ab2943d7af8ab6a2454436d9"
       ],
       "layout": "IPY_MODEL_ee1b5f911c884027a25dc5d45e19ed48"
      }
     },
     "8d9edbebf8804939965ff93b9d9aa747": {
      "model_module": "@jupyter-widgets/controls",
      "model_module_version": "1.5.0",
      "model_name": "DescriptionStyleModel",
      "state": {
       "_model_module": "@jupyter-widgets/controls",
       "_model_module_version": "1.5.0",
       "_model_name": "DescriptionStyleModel",
       "_view_count": null,
       "_view_module": "@jupyter-widgets/base",
       "_view_module_version": "1.2.0",
       "_view_name": "StyleView",
       "description_width": ""
      }
     },
     "8e1ee14c62f04f43957ef6560f0b61eb": {
      "model_module": "@jupyter-widgets/controls",
      "model_module_version": "1.5.0",
      "model_name": "HTMLModel",
      "state": {
       "_dom_classes": [],
       "_model_module": "@jupyter-widgets/controls",
       "_model_module_version": "1.5.0",
       "_model_name": "HTMLModel",
       "_view_count": null,
       "_view_module": "@jupyter-widgets/controls",
       "_view_module_version": "1.5.0",
       "_view_name": "HTMLView",
       "description": "",
       "description_tooltip": null,
       "layout": "IPY_MODEL_aef7dfad2e324c4bae4414fe8e284824",
       "placeholder": "​",
       "style": "IPY_MODEL_ed7456bbf6b842deb6be0f2b3d83b10c",
       "value": "loss train: 3.7545738220214844: "
      }
     },
     "aef7dfad2e324c4bae4414fe8e284824": {
      "model_module": "@jupyter-widgets/base",
      "model_module_version": "1.2.0",
      "model_name": "LayoutModel",
      "state": {
       "_model_module": "@jupyter-widgets/base",
       "_model_module_version": "1.2.0",
       "_model_name": "LayoutModel",
       "_view_count": null,
       "_view_module": "@jupyter-widgets/base",
       "_view_module_version": "1.2.0",
       "_view_name": "LayoutView",
       "align_content": null,
       "align_items": null,
       "align_self": null,
       "border": null,
       "bottom": null,
       "display": null,
       "flex": null,
       "flex_flow": null,
       "grid_area": null,
       "grid_auto_columns": null,
       "grid_auto_flow": null,
       "grid_auto_rows": null,
       "grid_column": null,
       "grid_gap": null,
       "grid_row": null,
       "grid_template_areas": null,
       "grid_template_columns": null,
       "grid_template_rows": null,
       "height": null,
       "justify_content": null,
       "justify_items": null,
       "left": null,
       "margin": null,
       "max_height": null,
       "max_width": null,
       "min_height": null,
       "min_width": null,
       "object_fit": null,
       "object_position": null,
       "order": null,
       "overflow": null,
       "overflow_x": null,
       "overflow_y": null,
       "padding": null,
       "right": null,
       "top": null,
       "visibility": null,
       "width": null
      }
     },
     "e4fb8306aebb4f11bba80956e0d70eb0": {
      "model_module": "@jupyter-widgets/base",
      "model_module_version": "1.2.0",
      "model_name": "LayoutModel",
      "state": {
       "_model_module": "@jupyter-widgets/base",
       "_model_module_version": "1.2.0",
       "_model_name": "LayoutModel",
       "_view_count": null,
       "_view_module": "@jupyter-widgets/base",
       "_view_module_version": "1.2.0",
       "_view_name": "LayoutView",
       "align_content": null,
       "align_items": null,
       "align_self": null,
       "border": null,
       "bottom": null,
       "display": null,
       "flex": null,
       "flex_flow": null,
       "grid_area": null,
       "grid_auto_columns": null,
       "grid_auto_flow": null,
       "grid_auto_rows": null,
       "grid_column": null,
       "grid_gap": null,
       "grid_row": null,
       "grid_template_areas": null,
       "grid_template_columns": null,
       "grid_template_rows": null,
       "height": null,
       "justify_content": null,
       "justify_items": null,
       "left": null,
       "margin": null,
       "max_height": null,
       "max_width": null,
       "min_height": null,
       "min_width": null,
       "object_fit": null,
       "object_position": null,
       "order": null,
       "overflow": null,
       "overflow_x": null,
       "overflow_y": null,
       "padding": null,
       "right": null,
       "top": null,
       "visibility": null,
       "width": null
      }
     },
     "ed7456bbf6b842deb6be0f2b3d83b10c": {
      "model_module": "@jupyter-widgets/controls",
      "model_module_version": "1.5.0",
      "model_name": "DescriptionStyleModel",
      "state": {
       "_model_module": "@jupyter-widgets/controls",
       "_model_module_version": "1.5.0",
       "_model_name": "DescriptionStyleModel",
       "_view_count": null,
       "_view_module": "@jupyter-widgets/base",
       "_view_module_version": "1.2.0",
       "_view_name": "StyleView",
       "description_width": ""
      }
     },
     "ee1b5f911c884027a25dc5d45e19ed48": {
      "model_module": "@jupyter-widgets/base",
      "model_module_version": "1.2.0",
      "model_name": "LayoutModel",
      "state": {
       "_model_module": "@jupyter-widgets/base",
       "_model_module_version": "1.2.0",
       "_model_name": "LayoutModel",
       "_view_count": null,
       "_view_module": "@jupyter-widgets/base",
       "_view_module_version": "1.2.0",
       "_view_name": "LayoutView",
       "align_content": null,
       "align_items": null,
       "align_self": null,
       "border": null,
       "bottom": null,
       "display": null,
       "flex": null,
       "flex_flow": null,
       "grid_area": null,
       "grid_auto_columns": null,
       "grid_auto_flow": null,
       "grid_auto_rows": null,
       "grid_column": null,
       "grid_gap": null,
       "grid_row": null,
       "grid_template_areas": null,
       "grid_template_columns": null,
       "grid_template_rows": null,
       "height": null,
       "justify_content": null,
       "justify_items": null,
       "left": null,
       "margin": null,
       "max_height": null,
       "max_width": null,
       "min_height": null,
       "min_width": null,
       "object_fit": null,
       "object_position": null,
       "order": null,
       "overflow": null,
       "overflow_x": null,
       "overflow_y": null,
       "padding": null,
       "right": null,
       "top": null,
       "visibility": null,
       "width": null
      }
     }
    },
    "version_major": 2,
    "version_minor": 0
   }
  }
 },
 "nbformat": 4,
 "nbformat_minor": 5
}
