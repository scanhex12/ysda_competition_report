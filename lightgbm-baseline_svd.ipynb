{
 "cells": [
  {
   "cell_type": "code",
   "execution_count": 1,
   "metadata": {
    "executionInfo": {
     "elapsed": 697,
     "status": "ok",
     "timestamp": 1666790276060,
     "user": {
      "displayName": "Alexander Avdyushenko",
      "userId": "14828398385300582507"
     },
     "user_tz": -180
    },
    "id": "eSKvJ_A5PdWE"
   },
   "outputs": [],
   "source": [
    "#!mkdir -p ~/.kaggle\n",
    "#!cp kaggle.json ~/.kaggle/\n",
    "#!pip install kaggle\n",
    "#!chmod 600 /root/.kaggle/kaggle.json\n",
    "#!kaggle competitions download -c copy-of-ml-1-shad-fall-2022\n",
    "#!unzip copy-of-ml-1-shad-fall-2022.zip"
   ]
  },
  {
   "cell_type": "code",
   "execution_count": null,
   "metadata": {},
   "outputs": [],
   "source": []
  },
  {
   "cell_type": "code",
   "execution_count": 2,
   "metadata": {},
   "outputs": [
    {
     "name": "stdout",
     "output_type": "stream",
     "text": [
      "Requirement already satisfied: lightgbm in ./.local/lib/python3.8/site-packages (3.3.3)\n",
      "Requirement already satisfied: scikit-learn!=0.22.0 in /usr/local/lib/python3.8/dist-packages (from lightgbm) (0.24.1)\n",
      "Requirement already satisfied: wheel in /usr/local/lib/python3.8/dist-packages (from lightgbm) (0.36.2)\n",
      "Requirement already satisfied: numpy in /usr/local/lib/python3.8/dist-packages (from lightgbm) (1.19.5)\n",
      "Requirement already satisfied: scipy in /usr/local/lib/python3.8/dist-packages (from lightgbm) (1.6.1)\n",
      "Requirement already satisfied: joblib>=0.11 in /usr/local/lib/python3.8/dist-packages (from scikit-learn!=0.22.0->lightgbm) (1.0.1)\n",
      "Requirement already satisfied: threadpoolctl>=2.0.0 in /usr/local/lib/python3.8/dist-packages (from scikit-learn!=0.22.0->lightgbm) (2.1.0)\n"
     ]
    }
   ],
   "source": [
    "!pip install lightgbm"
   ]
  },
  {
   "cell_type": "code",
   "execution_count": 3,
   "metadata": {},
   "outputs": [],
   "source": [
    "import random\n",
    "from typing import Optional\n",
    "\n",
    "import pandas as pd\n",
    "import lightgbm\n",
    "from lightgbm.callback import early_stopping\n",
    "\n",
    "TARGET = 'target'\n",
    "REQUEST_ID = 'request_id'"
   ]
  },
  {
   "cell_type": "code",
   "execution_count": 4,
   "metadata": {
    "colab": {
     "base_uri": "https://localhost:8080/",
     "height": 35
    },
    "executionInfo": {
     "elapsed": 25,
     "status": "ok",
     "timestamp": 1666790276061,
     "user": {
      "displayName": "Alexander Avdyushenko",
      "userId": "14828398385300582507"
     },
     "user_tz": -180
    },
    "id": "qIVtmClGPdWI",
    "outputId": "282a59f0-752a-4834-d9f2-4e37076a5f28"
   },
   "outputs": [
    {
     "data": {
      "text/plain": [
       "'1.2.2'"
      ]
     },
     "execution_count": 4,
     "metadata": {},
     "output_type": "execute_result"
    }
   ],
   "source": [
    "pd.__version__"
   ]
  },
  {
   "cell_type": "code",
   "execution_count": 5,
   "metadata": {
    "executionInfo": {
     "elapsed": 19,
     "status": "ok",
     "timestamp": 1666790276061,
     "user": {
      "displayName": "Alexander Avdyushenko",
      "userId": "14828398385300582507"
     },
     "user_tz": -180
    },
    "id": "qw-WBFB2PdWK"
   },
   "outputs": [],
   "source": [
    "def df_to_dict(df: pd.DataFrame):\n",
    "    return df.groupby(REQUEST_ID).item_id.apply(list).to_dict()\n",
    "\n",
    "def mapk_df(df_with_prediction: pd.DataFrame, k: int) -> float:\n",
    "    df_sorted = df_with_prediction.sort_values(['request_id', 'prediction'], ascending=[True, False])\n",
    "    df_sorted['rank'] = df_sorted.groupby('request_id').cumcount()\n",
    "    top = df_sorted[df_sorted['rank'] < k]\n",
    "    pred_dict = df_to_dict(top)\n",
    "    ans_dict = df_to_dict(df_sorted.query('target == 1'))\n",
    "    \n",
    "    predicted = []\n",
    "    actual = []\n",
    "    for k in ans_dict:\n",
    "        predicted.append(pred_dict[k])\n",
    "        actual.append(ans_dict[k])\n",
    "        \n",
    "    return mapk(actual, predicted, k)\n",
    "\n",
    "\n",
    "def apk(actual, predicted, k=30):\n",
    "\n",
    "    if not actual:\n",
    "        return 0.0\n",
    "\n",
    "    if len(predicted) > k:\n",
    "        predicted = predicted[:k]\n",
    "\n",
    "    score = 0.0\n",
    "    num_hits = 0.0\n",
    "    for i, p in enumerate(predicted):\n",
    "        # first condition checks whether it is valid prediction\n",
    "        # second condition checks if prediction is not repeated\n",
    "        if p in actual and p not in predicted[:i]:\n",
    "            num_hits += 1.0\n",
    "            score += num_hits / (i+1.0)\n",
    "\n",
    "    return score / min(len(actual), k)\n",
    "\n",
    "def mapk(actual, predicted, k=30):\n",
    "    return sum([apk(a, p, k) for a, p in zip(actual, predicted)]) / len(actual)\n",
    "    "
   ]
  },
  {
   "cell_type": "code",
   "execution_count": 6,
   "metadata": {},
   "outputs": [],
   "source": [
    "import numpy as np\n",
    "\n",
    "def get_group_for_lgb(sorted_vals):\n",
    "    curr_val = sorted_vals[0]\n",
    "    cnt = 1\n",
    "    groups = []\n",
    "    for val in sorted_vals[1:]:\n",
    "        if val != curr_val:\n",
    "            groups.append(cnt)\n",
    "            curr_val = val\n",
    "            cnt = 1\n",
    "        else:\n",
    "            cnt += 1\n",
    "\n",
    "    groups.append(cnt)\n",
    "\n",
    "    return groups\n",
    "\n",
    "\n",
    "\n",
    "class BaggingLightGBM:\n",
    "    def __init__(self, num_estimators):\n",
    "        self.num_estimators = num_estimators\n",
    "        self.k = num_estimators ** 0.5\n",
    "        self.models = []\n",
    "        \n",
    "    def _get_masks(self, n):\n",
    "        masks = []\n",
    "        for i in range(self.num_estimators):\n",
    "            masks.append(np.random.choice([True, False], n, p = [1 / self.k, 1 - (1 / self.k)]))\n",
    "        return masks\n",
    "    \n",
    "    def fit(self, train, val):\n",
    "        masks = self._get_masks(len(train))\n",
    "        for i in range(self.num_estimators):\n",
    "            trn_cur, val_cur = train.iloc[masks[i]], val\n",
    "            X_train, y_train, train_groups = trn_cur[features], trn_cur[TARGET], get_group_for_lgb(trn_cur[REQUEST_ID].values)\n",
    "            X_val, y_val, val_groups = val_cur[features], val_cur[TARGET], get_group_for_lgb(val_cur[REQUEST_ID].values)\n",
    "            lgb_train = lightgbm.Dataset(\n",
    "                X_train, y_train, categorical_feature=['category_id'],\n",
    "                group=train_groups, free_raw_data=False\n",
    "            )\n",
    "            lgb_eval = lightgbm.Dataset(\n",
    "                X_val, y_val, reference=lgb_train, categorical_feature=['category_id'],\n",
    "                group=val_groups, free_raw_data=False\n",
    "            )\n",
    "\n",
    "\n",
    "            model = lightgbm.train(\n",
    "                {'objective': 'binary', 'metric': 'map', 'eval_at': [8, 30], 'learning_rate': 0.05},\n",
    "                lgb_train,\n",
    "                valid_sets=[lgb_eval],\n",
    "                num_boost_round=500,\n",
    "                callbacks=[\n",
    "                    early_stopping(200),\n",
    "                    lightgbm.print_evaluation(10)\n",
    "                ],\n",
    "            )\n",
    "            self.models.append(model)\n",
    "        return self\n",
    "    \n",
    "    def predict(self, test):\n",
    "        return sum([self.models[i].predict(test) for i in range(len(self.models))]) / self.num_estimators\n",
    "        "
   ]
  },
  {
   "cell_type": "code",
   "execution_count": 7,
   "metadata": {
    "executionInfo": {
     "elapsed": 19,
     "status": "ok",
     "timestamp": 1666790276062,
     "user": {
      "displayName": "Alexander Avdyushenko",
      "userId": "14828398385300582507"
     },
     "user_tz": -180
    },
    "id": "R4xzuSdvPdWL"
   },
   "outputs": [],
   "source": [
    "\n",
    "def train_val_test_split(\n",
    "        df: pd.DataFrame,\n",
    "        split_column: str,\n",
    "        val_part: float = 0.1,\n",
    "        test_part: float = 0.1,\n",
    "        seed: int = 32,\n",
    ") -> (pd.DataFrame, pd.DataFrame, pd.DataFrame):\n",
    "    random.seed(seed)\n",
    "    unique_values = df[split_column].unique().tolist()\n",
    "    random.shuffle(unique_values)\n",
    "    val_start = int(len(unique_values) * (1 - val_part - test_part))\n",
    "    test_start = int(len(unique_values) * (1 - test_part))\n",
    "    train_ids = unique_values[:val_start]\n",
    "    val_ids = unique_values[val_start: test_start]\n",
    "    test_ids = unique_values[test_start:]\n",
    "\n",
    "    return (\n",
    "        df[df[split_column].isin(train_ids)],\n",
    "        df[df[split_column].isin(val_ids)],\n",
    "        df[df[split_column].isin(test_ids)],\n",
    "    )\n",
    "\n",
    "\n",
    "\n",
    "def train_lightgbm(ranking_df: pd.DataFrame, features: list):\n",
    "    train, val, test = train_val_test_split(ranking_df, REQUEST_ID, val_part=0.1, test_part=0.1)\n",
    "    X_train, y_train, train_groups = train[features], train[TARGET], get_group_for_lgb(train[REQUEST_ID].values)\n",
    "    X_val, y_val, val_groups = val[features], val[TARGET], get_group_for_lgb(val[REQUEST_ID].values)\n",
    "\n",
    "    lgb_train = lightgbm.Dataset(\n",
    "        X_train, y_train, categorical_feature=['category_id'],\n",
    "        group=train_groups, free_raw_data=False\n",
    "    )\n",
    "    lgb_eval = lightgbm.Dataset(\n",
    "        X_val, y_val, reference=lgb_train, categorical_feature=['category_id'],\n",
    "        group=val_groups, free_raw_data=False\n",
    "    )\n",
    "\n",
    "\n",
    "    model = lightgbm.train(\n",
    "        {'objective': 'binary', 'metric': 'map', 'eval_at': [8, 30], 'learning_rate': 0.05},\n",
    "        lgb_train,\n",
    "        valid_sets=[lgb_eval],\n",
    "        num_boost_round=500,\n",
    "        callbacks=[\n",
    "            lightgbm.print_evaluation(10)\n",
    "        ],\n",
    "    )\n",
    "    \n",
    "    test['prediction'] = model.predict(test[features])\n",
    "    print(f'map@30 on holdout test: {mapk_df(test, 30)}')\n",
    "\n",
    "    return model"
   ]
  },
  {
   "cell_type": "code",
   "execution_count": 8,
   "metadata": {
    "colab": {
     "base_uri": "https://localhost:8080/"
    },
    "executionInfo": {
     "elapsed": 2993,
     "status": "ok",
     "timestamp": 1666790279037,
     "user": {
      "displayName": "Alexander Avdyushenko",
      "userId": "14828398385300582507"
     },
     "user_tz": -180
    },
    "id": "V2LC3gUSPdWM",
    "outputId": "94e24153-8554-48f9-d5ab-1a5e8a3dc537"
   },
   "outputs": [
    {
     "name": "stdout",
     "output_type": "stream",
     "text": [
      "Requirement already satisfied: pyarrow in ./.local/lib/python3.8/site-packages (10.0.0)\n",
      "Requirement already satisfied: numpy>=1.16.6 in /usr/local/lib/python3.8/dist-packages (from pyarrow) (1.19.5)\n"
     ]
    }
   ],
   "source": [
    "!pip install pyarrow "
   ]
  },
  {
   "cell_type": "code",
   "execution_count": 9,
   "metadata": {
    "executionInfo": {
     "elapsed": 1225,
     "status": "ok",
     "timestamp": 1666790957229,
     "user": {
      "displayName": "Alexander Avdyushenko",
      "userId": "14828398385300582507"
     },
     "user_tz": -180
    },
    "id": "iFWm2hcVe40E"
   },
   "outputs": [],
   "source": [
    "import random\n",
    "from typing import Optional\n",
    "\n",
    "import pandas as pd\n",
    "import lightgbm\n",
    "from lightgbm.callback import early_stopping\n",
    "\n",
    "TARGET = 'target'\n",
    "REQUEST_ID = 'request_id'"
   ]
  },
  {
   "cell_type": "code",
   "execution_count": null,
   "metadata": {
    "colab": {
     "base_uri": "https://localhost:8080/"
    },
    "executionInfo": {
     "elapsed": 2621,
     "status": "ok",
     "timestamp": 1666790959847,
     "user": {
      "displayName": "Alexander Avdyushenko",
      "userId": "14828398385300582507"
     },
     "user_tz": -180
    },
    "id": "D0JDfyE9Porm",
    "outputId": "45407743-d22f-4e1f-9dab-1184d0a2b201"
   },
   "outputs": [],
   "source": []
  },
  {
   "cell_type": "code",
   "execution_count": 10,
   "metadata": {
    "colab": {
     "base_uri": "https://localhost:8080/"
    },
    "executionInfo": {
     "elapsed": 380,
     "status": "ok",
     "timestamp": 1666790962715,
     "user": {
      "displayName": "Alexander Avdyushenko",
      "userId": "14828398385300582507"
     },
     "user_tz": -180
    },
    "id": "fGELV-ulPtUx",
    "outputId": "0bd9ea4d-8fc2-485c-f097-c90953f808a0"
   },
   "outputs": [
    {
     "name": "stdout",
     "output_type": "stream",
     "text": [
      " copy-of-ml-1-shad-fall-2022.zip      'lightgbm-baseline (2).ipynb'\r\n",
      " data\t\t\t\t       lightgbm-baseline.ipynb\r\n",
      " data_cv.zip\t\t\t       model_17_epoch.pt\r\n",
      " history_test.pq\t\t       model_27_epoch.pt\r\n",
      " history_train.pq\t\t       __pycache__\r\n",
      " history_train_sample.pq\t       requests_embeddings_baseline.npy\r\n",
      "'homework_part1_detection_(1).ipynb'   requests_test.pq\r\n",
      " homework-part1-segmentation.ipynb     requests_train.pq\r\n",
      "'homework_part2 (1) (1).ipynb'\t       requests_train_sample.pq\r\n",
      "'homework_part2 (1).ipynb'\t       seminar_nlp_2.ipynb\r\n",
      " homework_pytorch.ipynb\t\t       test.csv\r\n",
      " items_embeddings_baseline.npy\t       train_mod.csv\r\n",
      " items_test.pq\t\t\t       train_mod_v3.csv\r\n",
      " items_train.pq\t\t\t       Untitled1.ipynb\r\n",
      " items_train_sample.pq\t\t       Untitled2.ipynb\r\n",
      " kaggle.json\t\t\t       Untitled3.ipynb\r\n",
      " lgbm_baseline.csv\t\t       Untitled.ipynb\r\n",
      " lgbm_baseline_old_train.txt\t       voc_data\r\n",
      " lgbm_svd_baseline.csv\t\t       week1_nets.ipynb\r\n"
     ]
    }
   ],
   "source": [
    "!ls"
   ]
  },
  {
   "cell_type": "code",
   "execution_count": 11,
   "metadata": {
    "executionInfo": {
     "elapsed": 306,
     "status": "ok",
     "timestamp": 1666790972211,
     "user": {
      "displayName": "Alexander Avdyushenko",
      "userId": "14828398385300582507"
     },
     "user_tz": -180
    },
    "id": "BK9N3MExPdWM"
   },
   "outputs": [],
   "source": [
    "path_to_data = ''"
   ]
  },
  {
   "cell_type": "code",
   "execution_count": 12,
   "metadata": {
    "id": "DPaHO7lEe9ca"
   },
   "outputs": [],
   "source": [
    "train = pd.read_parquet(path_to_data + 'items_train.pq')"
   ]
  },
  {
   "cell_type": "code",
   "execution_count": 13,
   "metadata": {},
   "outputs": [
    {
     "data": {
      "text/html": [
       "<div>\n",
       "<style scoped>\n",
       "    .dataframe tbody tr th:only-of-type {\n",
       "        vertical-align: middle;\n",
       "    }\n",
       "\n",
       "    .dataframe tbody tr th {\n",
       "        vertical-align: top;\n",
       "    }\n",
       "\n",
       "    .dataframe thead th {\n",
       "        text-align: right;\n",
       "    }\n",
       "</style>\n",
       "<table border=\"1\" class=\"dataframe\">\n",
       "  <thead>\n",
       "    <tr style=\"text-align: right;\">\n",
       "      <th></th>\n",
       "      <th>item_id</th>\n",
       "      <th>category_id</th>\n",
       "      <th>request_id</th>\n",
       "      <th>rank</th>\n",
       "      <th>model_a_score</th>\n",
       "      <th>model_a_rank</th>\n",
       "      <th>model_b_score</th>\n",
       "      <th>model_b_rank</th>\n",
       "      <th>model_b_f1</th>\n",
       "      <th>model_b_f2</th>\n",
       "      <th>...</th>\n",
       "      <th>item_stats.clicks</th>\n",
       "      <th>item_stats.clicks_rec</th>\n",
       "      <th>item_stats.last_clicks</th>\n",
       "      <th>item_stats.long_clicks</th>\n",
       "      <th>item_stats.clicks_last_day</th>\n",
       "      <th>item_stats.clicks_rec_last_day</th>\n",
       "      <th>item_stats.segment_contact_conversion</th>\n",
       "      <th>item_stats.seller_contact_conversion</th>\n",
       "      <th>item_stats.segment_click_conversion</th>\n",
       "      <th>item_stats.seller_click_conversion</th>\n",
       "    </tr>\n",
       "  </thead>\n",
       "  <tbody>\n",
       "    <tr>\n",
       "      <th>243499</th>\n",
       "      <td>153904</td>\n",
       "      <td>2</td>\n",
       "      <td>0</td>\n",
       "      <td>199</td>\n",
       "      <td>NaN</td>\n",
       "      <td>NaN</td>\n",
       "      <td>NaN</td>\n",
       "      <td>NaN</td>\n",
       "      <td>NaN</td>\n",
       "      <td>NaN</td>\n",
       "      <td>...</td>\n",
       "      <td>201</td>\n",
       "      <td>157</td>\n",
       "      <td>9</td>\n",
       "      <td>32.870800</td>\n",
       "      <td>26</td>\n",
       "      <td>17</td>\n",
       "      <td>0.026808</td>\n",
       "      <td>0.0025</td>\n",
       "      <td>0.035178</td>\n",
       "      <td>0.05</td>\n",
       "    </tr>\n",
       "    <tr>\n",
       "      <th>243444</th>\n",
       "      <td>426282</td>\n",
       "      <td>2</td>\n",
       "      <td>0</td>\n",
       "      <td>144</td>\n",
       "      <td>NaN</td>\n",
       "      <td>NaN</td>\n",
       "      <td>NaN</td>\n",
       "      <td>NaN</td>\n",
       "      <td>NaN</td>\n",
       "      <td>NaN</td>\n",
       "      <td>...</td>\n",
       "      <td>949</td>\n",
       "      <td>511</td>\n",
       "      <td>31</td>\n",
       "      <td>101.482094</td>\n",
       "      <td>60</td>\n",
       "      <td>46</td>\n",
       "      <td>0.020660</td>\n",
       "      <td>0.0025</td>\n",
       "      <td>0.035813</td>\n",
       "      <td>0.05</td>\n",
       "    </tr>\n",
       "    <tr>\n",
       "      <th>243491</th>\n",
       "      <td>692087</td>\n",
       "      <td>2</td>\n",
       "      <td>0</td>\n",
       "      <td>191</td>\n",
       "      <td>NaN</td>\n",
       "      <td>NaN</td>\n",
       "      <td>NaN</td>\n",
       "      <td>NaN</td>\n",
       "      <td>NaN</td>\n",
       "      <td>NaN</td>\n",
       "      <td>...</td>\n",
       "      <td>1154</td>\n",
       "      <td>692</td>\n",
       "      <td>84</td>\n",
       "      <td>160.471603</td>\n",
       "      <td>128</td>\n",
       "      <td>85</td>\n",
       "      <td>0.023634</td>\n",
       "      <td>0.0025</td>\n",
       "      <td>0.037988</td>\n",
       "      <td>0.05</td>\n",
       "    </tr>\n",
       "    <tr>\n",
       "      <th>243448</th>\n",
       "      <td>825959</td>\n",
       "      <td>2</td>\n",
       "      <td>0</td>\n",
       "      <td>148</td>\n",
       "      <td>11.11</td>\n",
       "      <td>16.0</td>\n",
       "      <td>NaN</td>\n",
       "      <td>NaN</td>\n",
       "      <td>NaN</td>\n",
       "      <td>NaN</td>\n",
       "      <td>...</td>\n",
       "      <td>332</td>\n",
       "      <td>183</td>\n",
       "      <td>14</td>\n",
       "      <td>34.140823</td>\n",
       "      <td>23</td>\n",
       "      <td>10</td>\n",
       "      <td>0.008888</td>\n",
       "      <td>0.0025</td>\n",
       "      <td>0.024652</td>\n",
       "      <td>0.05</td>\n",
       "    </tr>\n",
       "    <tr>\n",
       "      <th>243548</th>\n",
       "      <td>911885</td>\n",
       "      <td>25</td>\n",
       "      <td>0</td>\n",
       "      <td>248</td>\n",
       "      <td>NaN</td>\n",
       "      <td>NaN</td>\n",
       "      <td>NaN</td>\n",
       "      <td>NaN</td>\n",
       "      <td>NaN</td>\n",
       "      <td>NaN</td>\n",
       "      <td>...</td>\n",
       "      <td>3026</td>\n",
       "      <td>1890</td>\n",
       "      <td>95</td>\n",
       "      <td>475.407562</td>\n",
       "      <td>153</td>\n",
       "      <td>94</td>\n",
       "      <td>0.002561</td>\n",
       "      <td>0.0025</td>\n",
       "      <td>0.033806</td>\n",
       "      <td>0.05</td>\n",
       "    </tr>\n",
       "    <tr>\n",
       "      <th>...</th>\n",
       "      <td>...</td>\n",
       "      <td>...</td>\n",
       "      <td>...</td>\n",
       "      <td>...</td>\n",
       "      <td>...</td>\n",
       "      <td>...</td>\n",
       "      <td>...</td>\n",
       "      <td>...</td>\n",
       "      <td>...</td>\n",
       "      <td>...</td>\n",
       "      <td>...</td>\n",
       "      <td>...</td>\n",
       "      <td>...</td>\n",
       "      <td>...</td>\n",
       "      <td>...</td>\n",
       "      <td>...</td>\n",
       "      <td>...</td>\n",
       "      <td>...</td>\n",
       "      <td>...</td>\n",
       "      <td>...</td>\n",
       "      <td>...</td>\n",
       "    </tr>\n",
       "    <tr>\n",
       "      <th>1017132</th>\n",
       "      <td>33660072</td>\n",
       "      <td>25</td>\n",
       "      <td>209250</td>\n",
       "      <td>132</td>\n",
       "      <td>NaN</td>\n",
       "      <td>NaN</td>\n",
       "      <td>NaN</td>\n",
       "      <td>NaN</td>\n",
       "      <td>NaN</td>\n",
       "      <td>NaN</td>\n",
       "      <td>...</td>\n",
       "      <td>692</td>\n",
       "      <td>601</td>\n",
       "      <td>99</td>\n",
       "      <td>109.645386</td>\n",
       "      <td>692</td>\n",
       "      <td>601</td>\n",
       "      <td>0.012530</td>\n",
       "      <td>0.0025</td>\n",
       "      <td>0.029092</td>\n",
       "      <td>0.05</td>\n",
       "    </tr>\n",
       "    <tr>\n",
       "      <th>1017194</th>\n",
       "      <td>33693594</td>\n",
       "      <td>47</td>\n",
       "      <td>209250</td>\n",
       "      <td>194</td>\n",
       "      <td>NaN</td>\n",
       "      <td>NaN</td>\n",
       "      <td>NaN</td>\n",
       "      <td>NaN</td>\n",
       "      <td>NaN</td>\n",
       "      <td>NaN</td>\n",
       "      <td>...</td>\n",
       "      <td>1222</td>\n",
       "      <td>896</td>\n",
       "      <td>94</td>\n",
       "      <td>101.288750</td>\n",
       "      <td>446</td>\n",
       "      <td>342</td>\n",
       "      <td>0.008212</td>\n",
       "      <td>0.0025</td>\n",
       "      <td>0.020907</td>\n",
       "      <td>0.05</td>\n",
       "    </tr>\n",
       "    <tr>\n",
       "      <th>1017117</th>\n",
       "      <td>33697517</td>\n",
       "      <td>1</td>\n",
       "      <td>209250</td>\n",
       "      <td>117</td>\n",
       "      <td>NaN</td>\n",
       "      <td>NaN</td>\n",
       "      <td>0.04</td>\n",
       "      <td>4.0</td>\n",
       "      <td>2.0</td>\n",
       "      <td>0.25</td>\n",
       "      <td>...</td>\n",
       "      <td>166</td>\n",
       "      <td>87</td>\n",
       "      <td>34</td>\n",
       "      <td>16.724236</td>\n",
       "      <td>166</td>\n",
       "      <td>87</td>\n",
       "      <td>0.001459</td>\n",
       "      <td>0.0025</td>\n",
       "      <td>0.035080</td>\n",
       "      <td>0.05</td>\n",
       "    </tr>\n",
       "    <tr>\n",
       "      <th>1017151</th>\n",
       "      <td>33874555</td>\n",
       "      <td>1</td>\n",
       "      <td>209250</td>\n",
       "      <td>151</td>\n",
       "      <td>NaN</td>\n",
       "      <td>NaN</td>\n",
       "      <td>0.04</td>\n",
       "      <td>109.0</td>\n",
       "      <td>54.0</td>\n",
       "      <td>0.25</td>\n",
       "      <td>...</td>\n",
       "      <td>2145</td>\n",
       "      <td>1436</td>\n",
       "      <td>228</td>\n",
       "      <td>223.345917</td>\n",
       "      <td>694</td>\n",
       "      <td>470</td>\n",
       "      <td>0.001373</td>\n",
       "      <td>0.0025</td>\n",
       "      <td>0.018022</td>\n",
       "      <td>0.05</td>\n",
       "    </tr>\n",
       "    <tr>\n",
       "      <th>1017236</th>\n",
       "      <td>33953356</td>\n",
       "      <td>1</td>\n",
       "      <td>209250</td>\n",
       "      <td>236</td>\n",
       "      <td>6.57</td>\n",
       "      <td>7.0</td>\n",
       "      <td>0.03</td>\n",
       "      <td>173.0</td>\n",
       "      <td>79.0</td>\n",
       "      <td>0.25</td>\n",
       "      <td>...</td>\n",
       "      <td>2080</td>\n",
       "      <td>1371</td>\n",
       "      <td>187</td>\n",
       "      <td>117.479141</td>\n",
       "      <td>414</td>\n",
       "      <td>243</td>\n",
       "      <td>0.001361</td>\n",
       "      <td>0.0025</td>\n",
       "      <td>0.028706</td>\n",
       "      <td>0.05</td>\n",
       "    </tr>\n",
       "  </tbody>\n",
       "</table>\n",
       "<p>40623600 rows × 49 columns</p>\n",
       "</div>"
      ],
      "text/plain": [
       "          item_id  category_id  request_id  rank  model_a_score  model_a_rank  \\\n",
       "243499     153904            2           0   199            NaN           NaN   \n",
       "243444     426282            2           0   144            NaN           NaN   \n",
       "243491     692087            2           0   191            NaN           NaN   \n",
       "243448     825959            2           0   148          11.11          16.0   \n",
       "243548     911885           25           0   248            NaN           NaN   \n",
       "...           ...          ...         ...   ...            ...           ...   \n",
       "1017132  33660072           25      209250   132            NaN           NaN   \n",
       "1017194  33693594           47      209250   194            NaN           NaN   \n",
       "1017117  33697517            1      209250   117            NaN           NaN   \n",
       "1017151  33874555            1      209250   151            NaN           NaN   \n",
       "1017236  33953356            1      209250   236           6.57           7.0   \n",
       "\n",
       "         model_b_score  model_b_rank  model_b_f1  model_b_f2  ...  \\\n",
       "243499             NaN           NaN         NaN         NaN  ...   \n",
       "243444             NaN           NaN         NaN         NaN  ...   \n",
       "243491             NaN           NaN         NaN         NaN  ...   \n",
       "243448             NaN           NaN         NaN         NaN  ...   \n",
       "243548             NaN           NaN         NaN         NaN  ...   \n",
       "...                ...           ...         ...         ...  ...   \n",
       "1017132            NaN           NaN         NaN         NaN  ...   \n",
       "1017194            NaN           NaN         NaN         NaN  ...   \n",
       "1017117           0.04           4.0         2.0        0.25  ...   \n",
       "1017151           0.04         109.0        54.0        0.25  ...   \n",
       "1017236           0.03         173.0        79.0        0.25  ...   \n",
       "\n",
       "         item_stats.clicks  item_stats.clicks_rec  item_stats.last_clicks  \\\n",
       "243499                 201                    157                       9   \n",
       "243444                 949                    511                      31   \n",
       "243491                1154                    692                      84   \n",
       "243448                 332                    183                      14   \n",
       "243548                3026                   1890                      95   \n",
       "...                    ...                    ...                     ...   \n",
       "1017132                692                    601                      99   \n",
       "1017194               1222                    896                      94   \n",
       "1017117                166                     87                      34   \n",
       "1017151               2145                   1436                     228   \n",
       "1017236               2080                   1371                     187   \n",
       "\n",
       "         item_stats.long_clicks  item_stats.clicks_last_day  \\\n",
       "243499                32.870800                          26   \n",
       "243444               101.482094                          60   \n",
       "243491               160.471603                         128   \n",
       "243448                34.140823                          23   \n",
       "243548               475.407562                         153   \n",
       "...                         ...                         ...   \n",
       "1017132              109.645386                         692   \n",
       "1017194              101.288750                         446   \n",
       "1017117               16.724236                         166   \n",
       "1017151              223.345917                         694   \n",
       "1017236              117.479141                         414   \n",
       "\n",
       "         item_stats.clicks_rec_last_day  \\\n",
       "243499                               17   \n",
       "243444                               46   \n",
       "243491                               85   \n",
       "243448                               10   \n",
       "243548                               94   \n",
       "...                                 ...   \n",
       "1017132                             601   \n",
       "1017194                             342   \n",
       "1017117                              87   \n",
       "1017151                             470   \n",
       "1017236                             243   \n",
       "\n",
       "         item_stats.segment_contact_conversion  \\\n",
       "243499                                0.026808   \n",
       "243444                                0.020660   \n",
       "243491                                0.023634   \n",
       "243448                                0.008888   \n",
       "243548                                0.002561   \n",
       "...                                        ...   \n",
       "1017132                               0.012530   \n",
       "1017194                               0.008212   \n",
       "1017117                               0.001459   \n",
       "1017151                               0.001373   \n",
       "1017236                               0.001361   \n",
       "\n",
       "         item_stats.seller_contact_conversion  \\\n",
       "243499                                 0.0025   \n",
       "243444                                 0.0025   \n",
       "243491                                 0.0025   \n",
       "243448                                 0.0025   \n",
       "243548                                 0.0025   \n",
       "...                                       ...   \n",
       "1017132                                0.0025   \n",
       "1017194                                0.0025   \n",
       "1017117                                0.0025   \n",
       "1017151                                0.0025   \n",
       "1017236                                0.0025   \n",
       "\n",
       "         item_stats.segment_click_conversion  \\\n",
       "243499                              0.035178   \n",
       "243444                              0.035813   \n",
       "243491                              0.037988   \n",
       "243448                              0.024652   \n",
       "243548                              0.033806   \n",
       "...                                      ...   \n",
       "1017132                             0.029092   \n",
       "1017194                             0.020907   \n",
       "1017117                             0.035080   \n",
       "1017151                             0.018022   \n",
       "1017236                             0.028706   \n",
       "\n",
       "         item_stats.seller_click_conversion  \n",
       "243499                                 0.05  \n",
       "243444                                 0.05  \n",
       "243491                                 0.05  \n",
       "243448                                 0.05  \n",
       "243548                                 0.05  \n",
       "...                                     ...  \n",
       "1017132                                0.05  \n",
       "1017194                                0.05  \n",
       "1017117                                0.05  \n",
       "1017151                                0.05  \n",
       "1017236                                0.05  \n",
       "\n",
       "[40623600 rows x 49 columns]"
      ]
     },
     "execution_count": 13,
     "metadata": {},
     "output_type": "execute_result"
    }
   ],
   "source": [
    "train"
   ]
  },
  {
   "cell_type": "markdown",
   "metadata": {},
   "source": [
    "### Внедряем SVD"
   ]
  },
  {
   "cell_type": "code",
   "execution_count": 14,
   "metadata": {},
   "outputs": [],
   "source": [
    "request_embeddings = np.load('requests_embeddings_baseline.npy')\n",
    "items_embeddings = np.load('items_embeddings_baseline.npy')\n",
    "\n"
   ]
  },
  {
   "cell_type": "code",
   "execution_count": 15,
   "metadata": {},
   "outputs": [
    {
     "data": {
      "text/plain": [
       "(209251, 6)"
      ]
     },
     "execution_count": 15,
     "metadata": {},
     "output_type": "execute_result"
    }
   ],
   "source": [
    "items_embeddings.shape"
   ]
  },
  {
   "cell_type": "code",
   "execution_count": 16,
   "metadata": {},
   "outputs": [
    {
     "data": {
      "application/vnd.jupyter.widget-view+json": {
       "model_id": "3591bc61081447c5aaba57366f702af6",
       "version_major": 2,
       "version_minor": 0
      },
      "text/plain": [
       "  0%|          | 0/6 [00:00<?, ?it/s]"
      ]
     },
     "metadata": {},
     "output_type": "display_data"
    }
   ],
   "source": [
    "from tqdm.auto import trange\n",
    "\n",
    "for i in trange(items_embeddings.shape[1]):\n",
    "    train[f'item_emb_{i}'] = train['item_id'].apply(lambda x: request_embeddings[x][i])\n",
    "    train[f'req_emb_{i}'] = train['request_id'].apply(lambda x: items_embeddings[x][i])\n"
   ]
  },
  {
   "cell_type": "code",
   "execution_count": null,
   "metadata": {},
   "outputs": [],
   "source": []
  },
  {
   "cell_type": "code",
   "execution_count": 17,
   "metadata": {
    "colab": {
     "base_uri": "https://localhost:8080/"
    },
    "executionInfo": {
     "elapsed": 5,
     "status": "ok",
     "timestamp": 1666790316874,
     "user": {
      "displayName": "Alexander Avdyushenko",
      "userId": "14828398385300582507"
     },
     "user_tz": -180
    },
    "id": "GqEwFbLiTFaI",
    "outputId": "2e2ca443-a613-41a5-c571-669cfb334922"
   },
   "outputs": [
    {
     "data": {
      "text/plain": [
       "135412"
      ]
     },
     "execution_count": 17,
     "metadata": {},
     "output_type": "execute_result"
    }
   ],
   "source": [
    "request_ids = train.request_id.unique()\n",
    "len(request_ids)"
   ]
  },
  {
   "cell_type": "code",
   "execution_count": 18,
   "metadata": {
    "executionInfo": {
     "elapsed": 301,
     "status": "ok",
     "timestamp": 1666790976672,
     "user": {
      "displayName": "Alexander Avdyushenko",
      "userId": "14828398385300582507"
     },
     "user_tz": -180
    },
    "id": "Pri-YmlkPdWN"
   },
   "outputs": [],
   "source": [
    "features = [\n",
    "       'category_id',\n",
    "       'model_a_score',\n",
    "       'model_a_rank', \n",
    "       'model_b_score',\n",
    "       'model_b_rank', \n",
    "       'model_b_f1',\n",
    "       'model_b_f2',\n",
    "       'model_b_f3',\n",
    "       'model_c_score',\n",
    "       'model_c_rank',\n",
    "       'model_d_score',\n",
    "       'model_d_rank', \n",
    "       'shows_count', \n",
    "       'microcategory_id',\n",
    "       'location_id',\n",
    "       'price', \n",
    "       'sort_age', \n",
    "       'start_age',\n",
    "       'latitude',\n",
    "       'longitude',\n",
    "       'item_stats.days',\n",
    "       'item_stats.contact_conversion', \n",
    "       'item_stats.hides', \n",
    "       'item_stats.shows',\n",
    "       'item_stats.shows_last_day',\n",
    "       'item_stats.shows_rec',\n",
    "       'item_stats.shows_rec_last_day', \n",
    "       'item_stats.contacts',\n",
    "       'item_stats.contacts_last_day', \n",
    "       #'item_stats.contacts_rec_last_day',\n",
    "       'item_stats.contacts_rec', \n",
    "       'item_stats.last_contacts',\n",
    "       #'item_stats.delayed_contacts',\n",
    "       #'item_stats.delayed_contacts_rec',\n",
    "       'item_stats.clicks', \n",
    "       #'item_stats.clicks_rec', \n",
    "       'item_stats.last_clicks',\n",
    "       'item_stats.long_clicks',\n",
    "       'item_stats.clicks_last_day',\n",
    "       'item_stats.clicks_rec_last_day',\n",
    "       #'item_stats.segment_contact_conversion',\n",
    "       'item_stats.seller_contact_conversion',\n",
    "       'item_stats.segment_click_conversion',\n",
    "       'item_stats.seller_click_conversion',\n",
    "       'item_emb_0',\n",
    "       'item_emb_1',\n",
    "       'item_emb_2',\n",
    "       'item_emb_3',\n",
    "       'item_emb_4',\n",
    "       'item_emb_5',\n",
    "       'req_emb_0',\n",
    "       'req_emb_1',\n",
    "       'req_emb_2',\n",
    "       'req_emb_3',\n",
    "       'req_emb_4',\n",
    "       'req_emb_5',\n",
    "\n",
    "]"
   ]
  },
  {
   "cell_type": "code",
   "execution_count": null,
   "metadata": {
    "colab": {
     "base_uri": "https://localhost:8080/"
    },
    "executionInfo": {
     "elapsed": 122232,
     "status": "ok",
     "timestamp": 1666790482052,
     "user": {
      "displayName": "Alexander Avdyushenko",
      "userId": "14828398385300582507"
     },
     "user_tz": -180
    },
    "id": "3GPJeBYMPdWO",
    "outputId": "95109833-cca5-4170-a518-02183407f424"
   },
   "outputs": [
    {
     "name": "stderr",
     "output_type": "stream",
     "text": [
      "/home/kivedernikov/.local/lib/python3.8/site-packages/lightgbm/callback.py:57: UserWarning: 'print_evaluation()' callback is deprecated and will be removed in a future release of LightGBM. Use 'log_evaluation()' callback instead.\n",
      "  _log_warning(\"'print_evaluation()' callback is deprecated and will be removed in a future release of LightGBM. \"\n",
      "/home/kivedernikov/.local/lib/python3.8/site-packages/lightgbm/basic.py:2065: UserWarning: Using categorical_feature in Dataset.\n",
      "  _log_warning('Using categorical_feature in Dataset.')\n"
     ]
    },
    {
     "name": "stdout",
     "output_type": "stream",
     "text": [
      "[LightGBM] [Info] Number of positive: 176182, number of negative: 32322518\n",
      "[LightGBM] [Info] Total groups: 108329, total data: 32498700\n",
      "[LightGBM] [Warning] Auto-choosing row-wise multi-threading, the overhead of testing was 1.832476 seconds.\n",
      "You can set `force_row_wise=true` to remove the overhead.\n",
      "And if memory is not enough, you can set `force_col_wise=true`.\n",
      "[LightGBM] [Info] Total Bins 11753\n",
      "[LightGBM] [Info] Number of data points in the train set: 32498700, number of used features: 51\n"
     ]
    },
    {
     "name": "stderr",
     "output_type": "stream",
     "text": [
      "/home/kivedernikov/.local/lib/python3.8/site-packages/lightgbm/basic.py:1780: UserWarning: Overriding the parameters from Reference Dataset.\n",
      "  _log_warning('Overriding the parameters from Reference Dataset.')\n",
      "/home/kivedernikov/.local/lib/python3.8/site-packages/lightgbm/basic.py:1513: UserWarning: categorical_column in param dict is overridden.\n",
      "  _log_warning(f'{cat_alias} in param dict is overridden.')\n"
     ]
    },
    {
     "name": "stdout",
     "output_type": "stream",
     "text": [
      "[LightGBM] [Info] Total groups: 13541, total data: 4062300\n",
      "[LightGBM] [Info] [binary:BoostFromScore]: pavg=0.005421 -> initscore=-5.212002\n",
      "[LightGBM] [Info] Start training from score -5.212002\n",
      "[10]\tvalid_0's map@8: 0.102492\tvalid_0's map@30: 0.117225\n",
      "[20]\tvalid_0's map@8: 0.108622\tvalid_0's map@30: 0.123671\n",
      "[30]\tvalid_0's map@8: 0.11119\tvalid_0's map@30: 0.126642\n",
      "[40]\tvalid_0's map@8: 0.113889\tvalid_0's map@30: 0.129379\n",
      "[50]\tvalid_0's map@8: 0.115903\tvalid_0's map@30: 0.131497\n",
      "[60]\tvalid_0's map@8: 0.117045\tvalid_0's map@30: 0.132787\n",
      "[70]\tvalid_0's map@8: 0.117929\tvalid_0's map@30: 0.133805\n",
      "[80]\tvalid_0's map@8: 0.11972\tvalid_0's map@30: 0.135653\n",
      "[90]\tvalid_0's map@8: 0.120495\tvalid_0's map@30: 0.136565\n",
      "[100]\tvalid_0's map@8: 0.12097\tvalid_0's map@30: 0.137212\n",
      "[110]\tvalid_0's map@8: 0.121934\tvalid_0's map@30: 0.138275\n",
      "[120]\tvalid_0's map@8: 0.1228\tvalid_0's map@30: 0.139261\n",
      "[130]\tvalid_0's map@8: 0.123783\tvalid_0's map@30: 0.140323\n",
      "[140]\tvalid_0's map@8: 0.124376\tvalid_0's map@30: 0.14113\n",
      "[150]\tvalid_0's map@8: 0.125121\tvalid_0's map@30: 0.141854\n",
      "[160]\tvalid_0's map@8: 0.125804\tvalid_0's map@30: 0.142737\n",
      "[170]\tvalid_0's map@8: 0.126364\tvalid_0's map@30: 0.143191\n",
      "[180]\tvalid_0's map@8: 0.126599\tvalid_0's map@30: 0.143497\n",
      "[190]\tvalid_0's map@8: 0.127484\tvalid_0's map@30: 0.144357\n",
      "[200]\tvalid_0's map@8: 0.127651\tvalid_0's map@30: 0.144455\n",
      "[210]\tvalid_0's map@8: 0.128417\tvalid_0's map@30: 0.14535\n",
      "[220]\tvalid_0's map@8: 0.128512\tvalid_0's map@30: 0.145434\n"
     ]
    }
   ],
   "source": [
    "model = train_lightgbm(train, features)"
   ]
  },
  {
   "cell_type": "code",
   "execution_count": null,
   "metadata": {
    "executionInfo": {
     "elapsed": 334,
     "status": "ok",
     "timestamp": 1666790488974,
     "user": {
      "displayName": "Alexander Avdyushenko",
      "userId": "14828398385300582507"
     },
     "user_tz": -180
    },
    "id": "UUA8jMWxNNo7"
   },
   "outputs": [],
   "source": [
    "del train"
   ]
  },
  {
   "cell_type": "code",
   "execution_count": null,
   "metadata": {
    "colab": {
     "base_uri": "https://localhost:8080/"
    },
    "executionInfo": {
     "elapsed": 3,
     "status": "ok",
     "timestamp": 1666790696976,
     "user": {
      "displayName": "Alexander Avdyushenko",
      "userId": "14828398385300582507"
     },
     "user_tz": -180
    },
    "id": "nTScAW4nccZh",
    "outputId": "d6f9aa73-38b1-4921-861d-ef3c1ae1f8cc"
   },
   "outputs": [],
   "source": [
    "#model.save_model('lgbm_baseline_old_train.txt')"
   ]
  },
  {
   "cell_type": "code",
   "execution_count": null,
   "metadata": {
    "executionInfo": {
     "elapsed": 650,
     "status": "ok",
     "timestamp": 1666790984165,
     "user": {
      "displayName": "Alexander Avdyushenko",
      "userId": "14828398385300582507"
     },
     "user_tz": -180
    },
    "id": "AnlA-SnHckfB"
   },
   "outputs": [],
   "source": [
    "# load from model:\n",
    "#model = lightgbm.Booster(model_file='lgbm_baseline_old_train.txt')"
   ]
  },
  {
   "cell_type": "code",
   "execution_count": null,
   "metadata": {
    "executionInfo": {
     "elapsed": 16243,
     "status": "ok",
     "timestamp": 1666791010837,
     "user": {
      "displayName": "Alexander Avdyushenko",
      "userId": "14828398385300582507"
     },
     "user_tz": -180
    },
    "id": "-mF1_-Hjl_Vn"
   },
   "outputs": [],
   "source": [
    "test = pd.read_parquet(path_to_data + 'items_test.pq')"
   ]
  },
  {
   "cell_type": "code",
   "execution_count": null,
   "metadata": {},
   "outputs": [],
   "source": [
    "from tqdm.auto import trange\n",
    "\n",
    "for i in trange(items_embeddings.shape[1]):\n",
    "    test[f'item_emb_{i}'] = test['item_id'].apply(lambda x: request_embeddings[x][i] if x < request_embeddings.shape[0] else 0)\n",
    "    test[f'req_emb_{i}'] = test['request_id'].apply(lambda x: items_embeddings[x][i] if x < items_embeddings.shape[0] else 0)\n"
   ]
  },
  {
   "cell_type": "code",
   "execution_count": null,
   "metadata": {
    "executionInfo": {
     "elapsed": 12,
     "status": "ok",
     "timestamp": 1666791010838,
     "user": {
      "displayName": "Alexander Avdyushenko",
      "userId": "14828398385300582507"
     },
     "user_tz": -180
    },
    "id": "4lMAUg8iPdWP"
   },
   "outputs": [],
   "source": [
    "def create_submission(filename, model, test, k: int = 30):\n",
    "    test['pred'] = model.predict(test[model.models[0].feature_name()])\n",
    "    test_sorted = test.sort_values(['request_id', 'pred'], ascending=[True, False])\n",
    "    test_sorted['rank'] = test_sorted.groupby('request_id').cumcount()\n",
    "    top = test_sorted[test_sorted['rank'] < k]\n",
    "    subm = top[['request_id', 'item_id']].groupby('request_id')['item_id'].apply(lambda x: ' '.join(map(str, x)))\n",
    "    subm_df = subm.to_frame().reset_index().rename(columns={'item_id': 'item_ids'})\n",
    "    subm_df.to_csv(filename, index=False)"
   ]
  },
  {
   "cell_type": "code",
   "execution_count": null,
   "metadata": {
    "id": "kgnkHzoaPdWP"
   },
   "outputs": [],
   "source": [
    "create_submission('lgbm_svd_baseline.csv', model, test)"
   ]
  },
  {
   "cell_type": "code",
   "execution_count": null,
   "metadata": {
    "colab": {
     "base_uri": "https://localhost:8080/"
    },
    "executionInfo": {
     "elapsed": 513,
     "status": "ok",
     "timestamp": 1666709031420,
     "user": {
      "displayName": "Alexander Avdyushenko",
      "userId": "14828398385300582507"
     },
     "user_tz": -180
    },
    "id": "UhHnyBVkPdWQ",
    "outputId": "4c1ff92b-095b-480a-9171-cfa7851bfca2"
   },
   "outputs": [],
   "source": []
  },
  {
   "cell_type": "code",
   "execution_count": null,
   "metadata": {
    "id": "uTKiEDYVmYMs"
   },
   "outputs": [],
   "source": [
    "test.head(10)"
   ]
  },
  {
   "cell_type": "code",
   "execution_count": null,
   "metadata": {},
   "outputs": [],
   "source": []
  }
 ],
 "metadata": {
  "accelerator": "GPU",
  "colab": {
   "collapsed_sections": [],
   "machine_shape": "hm",
   "provenance": []
  },
  "gpuClass": "standard",
  "kernelspec": {
   "display_name": "Python 3",
   "language": "python",
   "name": "python3"
  },
  "language_info": {
   "codemirror_mode": {
    "name": "ipython",
    "version": 3
   },
   "file_extension": ".py",
   "mimetype": "text/x-python",
   "name": "python",
   "nbconvert_exporter": "python",
   "pygments_lexer": "ipython3",
   "version": "3.8.10"
  }
 },
 "nbformat": 4,
 "nbformat_minor": 1
}
