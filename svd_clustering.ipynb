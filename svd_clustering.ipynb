{
 "cells": [
  {
   "cell_type": "code",
   "execution_count": 1,
   "id": "4cba5004",
   "metadata": {
    "_cell_guid": "b1076dfc-b9ad-4769-8c92-a6c4dae69d19",
    "_uuid": "8f2839f25d086af736a60e9eeb907d3b93b6e0e5",
    "execution": {
     "iopub.execute_input": "2022-11-27T12:34:12.550974Z",
     "iopub.status.busy": "2022-11-27T12:34:12.550543Z",
     "iopub.status.idle": "2022-11-27T12:34:30.644807Z",
     "shell.execute_reply": "2022-11-27T12:34:30.643339Z"
    },
    "papermill": {
     "duration": 18.103153,
     "end_time": "2022-11-27T12:34:30.647856",
     "exception": false,
     "start_time": "2022-11-27T12:34:12.544703",
     "status": "completed"
    },
    "tags": []
   },
   "outputs": [
    {
     "data": {
      "text/html": [
       "<div>\n",
       "<style scoped>\n",
       "    .dataframe tbody tr th:only-of-type {\n",
       "        vertical-align: middle;\n",
       "    }\n",
       "\n",
       "    .dataframe tbody tr th {\n",
       "        vertical-align: top;\n",
       "    }\n",
       "\n",
       "    .dataframe thead th {\n",
       "        text-align: right;\n",
       "    }\n",
       "</style>\n",
       "<table border=\"1\" class=\"dataframe\">\n",
       "  <thead>\n",
       "    <tr style=\"text-align: right;\">\n",
       "      <th></th>\n",
       "      <th>category_id</th>\n",
       "      <th>microcategory_id</th>\n",
       "      <th>item_id</th>\n",
       "      <th>event_type</th>\n",
       "      <th>source_event_type</th>\n",
       "      <th>request_id</th>\n",
       "      <th>location_id</th>\n",
       "      <th>event_age_seconds</th>\n",
       "    </tr>\n",
       "  </thead>\n",
       "  <tbody>\n",
       "    <tr>\n",
       "      <th>0</th>\n",
       "      <td>31</td>\n",
       "      <td>189</td>\n",
       "      <td>979366</td>\n",
       "      <td>0</td>\n",
       "      <td>0</td>\n",
       "      <td>136128</td>\n",
       "      <td>5215</td>\n",
       "      <td>2651288</td>\n",
       "    </tr>\n",
       "    <tr>\n",
       "      <th>1</th>\n",
       "      <td>31</td>\n",
       "      <td>6321</td>\n",
       "      <td>979366</td>\n",
       "      <td>2</td>\n",
       "      <td>8</td>\n",
       "      <td>136128</td>\n",
       "      <td>161</td>\n",
       "      <td>2651246</td>\n",
       "    </tr>\n",
       "    <tr>\n",
       "      <th>2</th>\n",
       "      <td>31</td>\n",
       "      <td>6321</td>\n",
       "      <td>979366</td>\n",
       "      <td>4</td>\n",
       "      <td>8</td>\n",
       "      <td>136128</td>\n",
       "      <td>5215</td>\n",
       "      <td>2651229</td>\n",
       "    </tr>\n",
       "    <tr>\n",
       "      <th>3</th>\n",
       "      <td>31</td>\n",
       "      <td>189</td>\n",
       "      <td>11420517</td>\n",
       "      <td>0</td>\n",
       "      <td>0</td>\n",
       "      <td>136128</td>\n",
       "      <td>5215</td>\n",
       "      <td>2651206</td>\n",
       "    </tr>\n",
       "    <tr>\n",
       "      <th>4</th>\n",
       "      <td>31</td>\n",
       "      <td>189</td>\n",
       "      <td>15674214</td>\n",
       "      <td>0</td>\n",
       "      <td>0</td>\n",
       "      <td>136128</td>\n",
       "      <td>5215</td>\n",
       "      <td>2651198</td>\n",
       "    </tr>\n",
       "    <tr>\n",
       "      <th>...</th>\n",
       "      <td>...</td>\n",
       "      <td>...</td>\n",
       "      <td>...</td>\n",
       "      <td>...</td>\n",
       "      <td>...</td>\n",
       "      <td>...</td>\n",
       "      <td>...</td>\n",
       "      <td>...</td>\n",
       "    </tr>\n",
       "    <tr>\n",
       "      <th>1470078</th>\n",
       "      <td>20</td>\n",
       "      <td>121</td>\n",
       "      <td>1946860</td>\n",
       "      <td>0</td>\n",
       "      <td>2</td>\n",
       "      <td>32097</td>\n",
       "      <td>5607</td>\n",
       "      <td>250743</td>\n",
       "    </tr>\n",
       "    <tr>\n",
       "      <th>1470079</th>\n",
       "      <td>20</td>\n",
       "      <td>135</td>\n",
       "      <td>9698131</td>\n",
       "      <td>0</td>\n",
       "      <td>3</td>\n",
       "      <td>32097</td>\n",
       "      <td>5607</td>\n",
       "      <td>250610</td>\n",
       "    </tr>\n",
       "    <tr>\n",
       "      <th>1470080</th>\n",
       "      <td>20</td>\n",
       "      <td>135</td>\n",
       "      <td>9698131</td>\n",
       "      <td>0</td>\n",
       "      <td>3</td>\n",
       "      <td>32097</td>\n",
       "      <td>5607</td>\n",
       "      <td>250569</td>\n",
       "    </tr>\n",
       "    <tr>\n",
       "      <th>1470081</th>\n",
       "      <td>20</td>\n",
       "      <td>135</td>\n",
       "      <td>1214040</td>\n",
       "      <td>0</td>\n",
       "      <td>4</td>\n",
       "      <td>32097</td>\n",
       "      <td>5616</td>\n",
       "      <td>250495</td>\n",
       "    </tr>\n",
       "    <tr>\n",
       "      <th>1470082</th>\n",
       "      <td>36</td>\n",
       "      <td>12</td>\n",
       "      <td>16876592</td>\n",
       "      <td>0</td>\n",
       "      <td>2</td>\n",
       "      <td>32097</td>\n",
       "      <td>5607</td>\n",
       "      <td>2754728</td>\n",
       "    </tr>\n",
       "  </tbody>\n",
       "</table>\n",
       "<p>68268934 rows × 8 columns</p>\n",
       "</div>"
      ],
      "text/plain": [
       "         category_id  microcategory_id   item_id  event_type  \\\n",
       "0                 31               189    979366           0   \n",
       "1                 31              6321    979366           2   \n",
       "2                 31              6321    979366           4   \n",
       "3                 31               189  11420517           0   \n",
       "4                 31               189  15674214           0   \n",
       "...              ...               ...       ...         ...   \n",
       "1470078           20               121   1946860           0   \n",
       "1470079           20               135   9698131           0   \n",
       "1470080           20               135   9698131           0   \n",
       "1470081           20               135   1214040           0   \n",
       "1470082           36                12  16876592           0   \n",
       "\n",
       "         source_event_type  request_id  location_id  event_age_seconds  \n",
       "0                        0      136128         5215            2651288  \n",
       "1                        8      136128          161            2651246  \n",
       "2                        8      136128         5215            2651229  \n",
       "3                        0      136128         5215            2651206  \n",
       "4                        0      136128         5215            2651198  \n",
       "...                    ...         ...          ...                ...  \n",
       "1470078                  2       32097         5607             250743  \n",
       "1470079                  3       32097         5607             250610  \n",
       "1470080                  3       32097         5607             250569  \n",
       "1470081                  4       32097         5616             250495  \n",
       "1470082                  2       32097         5607            2754728  \n",
       "\n",
       "[68268934 rows x 8 columns]"
      ]
     },
     "execution_count": 1,
     "metadata": {},
     "output_type": "execute_result"
    }
   ],
   "source": [
    "import pandas as pd\n",
    "import numpy as np\n",
    "\n",
    "df_history = pd.read_parquet('/kaggle/input/copy-of-ml-1-shad-fall-2022/history_train.pq')\n",
    "df_history\n"
   ]
  },
  {
   "cell_type": "code",
   "execution_count": 2,
   "id": "b9f390d4",
   "metadata": {
    "execution": {
     "iopub.execute_input": "2022-11-27T12:34:30.656225Z",
     "iopub.status.busy": "2022-11-27T12:34:30.655840Z",
     "iopub.status.idle": "2022-11-27T12:34:48.699611Z",
     "shell.execute_reply": "2022-11-27T12:34:48.698425Z"
    },
    "papermill": {
     "duration": 18.051057,
     "end_time": "2022-11-27T12:34:48.702448",
     "exception": false,
     "start_time": "2022-11-27T12:34:30.651391",
     "status": "completed"
    },
    "tags": []
   },
   "outputs": [],
   "source": [
    "from scipy.sparse import csc_matrix\n",
    "\n",
    "row = df_history['request_id'].values\n",
    "col = df_history['item_id'].values\n",
    "data = df_history['event_type'].values\n",
    "\n",
    "sparse_history_matrix = csc_matrix((data, (row, col)), shape=(max(row) + 1, max(col) + 1), dtype=float)\n"
   ]
  },
  {
   "cell_type": "code",
   "execution_count": 3,
   "id": "21e1bd2b",
   "metadata": {
    "execution": {
     "iopub.execute_input": "2022-11-27T12:34:48.710938Z",
     "iopub.status.busy": "2022-11-27T12:34:48.710542Z",
     "iopub.status.idle": "2022-11-27T12:36:33.398533Z",
     "shell.execute_reply": "2022-11-27T12:36:33.397537Z"
    },
    "papermill": {
     "duration": 104.695298,
     "end_time": "2022-11-27T12:36:33.401120",
     "exception": false,
     "start_time": "2022-11-27T12:34:48.705822",
     "status": "completed"
    },
    "tags": []
   },
   "outputs": [],
   "source": [
    "from scipy.sparse.linalg import svds\n",
    "\n",
    "u, s, vT = svds(sparse_history_matrix)\n"
   ]
  },
  {
   "cell_type": "code",
   "execution_count": 4,
   "id": "99b06297",
   "metadata": {
    "execution": {
     "iopub.execute_input": "2022-11-27T12:36:33.409575Z",
     "iopub.status.busy": "2022-11-27T12:36:33.409168Z",
     "iopub.status.idle": "2022-11-27T12:36:39.358136Z",
     "shell.execute_reply": "2022-11-27T12:36:39.351151Z"
    },
    "papermill": {
     "duration": 5.9612,
     "end_time": "2022-11-27T12:36:39.365907",
     "exception": false,
     "start_time": "2022-11-27T12:36:33.404707",
     "status": "completed"
    },
    "tags": []
   },
   "outputs": [],
   "source": [
    "from sklearn.cluster import MiniBatchKMeans\n",
    "u_c = MiniBatchKMeans(n_clusters=50).fit(u).labels_\n",
    "v_c = MiniBatchKMeans(n_clusters=50).fit(vT.T).labels_\n"
   ]
  },
  {
   "cell_type": "code",
   "execution_count": 5,
   "id": "cc7a7bfe",
   "metadata": {
    "execution": {
     "iopub.execute_input": "2022-11-27T12:36:39.379454Z",
     "iopub.status.busy": "2022-11-27T12:36:39.378406Z",
     "iopub.status.idle": "2022-11-27T12:36:44.804043Z",
     "shell.execute_reply": "2022-11-27T12:36:44.802817Z"
    },
    "papermill": {
     "duration": 5.435045,
     "end_time": "2022-11-27T12:36:44.807357",
     "exception": false,
     "start_time": "2022-11-27T12:36:39.372312",
     "status": "completed"
    },
    "tags": []
   },
   "outputs": [],
   "source": [
    "np.save( 'u_с.npy', u_c)\n",
    "np.save('v_с.npy', v_c)\n",
    "\n",
    "np.save('u.npy', u)\n",
    "np.save('v.npy', vT.T)\n",
    "\n"
   ]
  },
  {
   "cell_type": "code",
   "execution_count": 6,
   "id": "4efc46ed",
   "metadata": {
    "execution": {
     "iopub.execute_input": "2022-11-27T12:36:44.904652Z",
     "iopub.status.busy": "2022-11-27T12:36:44.903939Z",
     "iopub.status.idle": "2022-11-27T12:36:56.880180Z",
     "shell.execute_reply": "2022-11-27T12:36:56.878817Z"
    },
    "papermill": {
     "duration": 11.990938,
     "end_time": "2022-11-27T12:36:56.886553",
     "exception": false,
     "start_time": "2022-11-27T12:36:44.895615",
     "status": "completed"
    },
    "tags": []
   },
   "outputs": [
    {
     "data": {
      "image/png": "[encoded data removed]",
      "text/plain": [
       "<Figure size 720x720 with 1 Axes>"
      ]
     },
     "metadata": {
      "needs_background": "light"
     },
     "output_type": "display_data"
    }
   ],
   "source": [
    "import matplotlib.pyplot as plt\n",
    "\n",
    "random_projection_x = u @ np.random.normal(0, 1, u.shape[1]).reshape(-1, 1)\n",
    "random_projection_y = u @ np.random.normal(0, 1, u.shape[1]).reshape(-1, 1)\n",
    "\n",
    "plt.figure(figsize=(10, 10))\n",
    "plt.xlim(-0.02, 0.02)\n",
    "plt.ylim(-0.02, 0.02)\n",
    "for i in range(1000):\n",
    "    mask = (u_c == i)\n",
    "    plt.scatter(random_projection_x[mask], random_projection_y[mask])\n",
    "    \n",
    "plt.show()"
   ]
  },
  {
   "cell_type": "code",
   "execution_count": null,
   "id": "6b2f40f3",
   "metadata": {
    "execution": {
     "iopub.execute_input": "2022-11-27T12:22:17.827914Z",
     "iopub.status.busy": "2022-11-27T12:22:17.827513Z",
     "iopub.status.idle": "2022-11-27T12:22:17.836900Z",
     "shell.execute_reply": "2022-11-27T12:22:17.835571Z",
     "shell.execute_reply.started": "2022-11-27T12:22:17.827880Z"
    },
    "papermill": {
     "duration": 0.006554,
     "end_time": "2022-11-27T12:36:56.901315",
     "exception": false,
     "start_time": "2022-11-27T12:36:56.894761",
     "status": "completed"
    },
    "tags": []
   },
   "outputs": [],
   "source": []
  },
  {
   "cell_type": "code",
   "execution_count": null,
   "id": "11dbe6f2",
   "metadata": {
    "papermill": {
     "duration": 0.006207,
     "end_time": "2022-11-27T12:36:56.914250",
     "exception": false,
     "start_time": "2022-11-27T12:36:56.908043",
     "status": "completed"
    },
    "tags": []
   },
   "outputs": [],
   "source": []
  }
 ],
 "metadata": {
  "kernelspec": {
   "display_name": "Python 3",
   "language": "python",
   "name": "python3"
  },
  "language_info": {
   "codemirror_mode": {
    "name": "ipython",
    "version": 3
   },
   "file_extension": ".py",
   "mimetype": "text/x-python",
   "name": "python",
   "nbconvert_exporter": "python",
   "pygments_lexer": "ipython3",
   "version": "3.7.12"
  },
  "papermill": {
   "default_parameters": {},
   "duration": 174.256908,
   "end_time": "2022-11-27T12:36:58.451557",
   "environment_variables": {},
   "exception": null,
   "input_path": "__notebook__.ipynb",
   "output_path": "__notebook__.ipynb",
   "parameters": {},
   "start_time": "2022-11-27T12:34:04.194649",
   "version": "2.3.4"
  }
 },
 "nbformat": 4,
 "nbformat_minor": 5
}
