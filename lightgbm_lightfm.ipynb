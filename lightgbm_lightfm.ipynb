{
 "cells": [
  {
   "cell_type": "code",
   "execution_count": 1,
   "metadata": {
    "executionInfo": {
     "elapsed": 697,
     "status": "ok",
     "timestamp": 1666790276060,
     "user": {
      "displayName": "Alexander Avdyushenko",
      "userId": "14828398385300582507"
     },
     "user_tz": -180
    },
    "id": "eSKvJ_A5PdWE"
   },
   "outputs": [],
   "source": [
    "#!mkdir -p ~/.kaggle\n",
    "#!cp kaggle.json ~/.kaggle/\n",
    "#!pip install kaggle\n",
    "#!chmod 600 /root/.kaggle/kaggle.json\n",
    "#!kaggle competitions download -c copy-of-ml-1-shad-fall-2022\n",
    "#!unzip copy-of-ml-1-shad-fall-2022.zip"
   ]
  },
  {
   "cell_type": "code",
   "execution_count": 2,
   "metadata": {},
   "outputs": [
    {
     "name": "stdout",
     "output_type": "stream",
     "text": [
      "Requirement already satisfied: lightfm in ./.local/lib/python3.8/site-packages (1.16)\n",
      "Requirement already satisfied: numpy in ./.local/lib/python3.8/site-packages (from lightfm) (1.23.5)\n",
      "Requirement already satisfied: scikit-learn in /usr/local/lib/python3.8/dist-packages (from lightfm) (0.24.1)\n",
      "Requirement already satisfied: scipy>=0.17.0 in /usr/local/lib/python3.8/dist-packages (from lightfm) (1.6.1)\n",
      "Requirement already satisfied: requests in /usr/lib/python3/dist-packages (from lightfm) (2.22.0)\n",
      "Requirement already satisfied: threadpoolctl>=2.0.0 in /usr/local/lib/python3.8/dist-packages (from scikit-learn->lightfm) (2.1.0)\n",
      "Requirement already satisfied: joblib>=0.11 in /usr/local/lib/python3.8/dist-packages (from scikit-learn->lightfm) (1.0.1)\n"
     ]
    }
   ],
   "source": [
    "!pip install lightfm"
   ]
  },
  {
   "cell_type": "code",
   "execution_count": null,
   "metadata": {},
   "outputs": [],
   "source": []
  },
  {
   "cell_type": "code",
   "execution_count": 3,
   "metadata": {},
   "outputs": [
    {
     "data": {
      "text/html": [
       "<div>\n",
       "<style scoped>\n",
       "    .dataframe tbody tr th:only-of-type {\n",
       "        vertical-align: middle;\n",
       "    }\n",
       "\n",
       "    .dataframe tbody tr th {\n",
       "        vertical-align: top;\n",
       "    }\n",
       "\n",
       "    .dataframe thead th {\n",
       "        text-align: right;\n",
       "    }\n",
       "</style>\n",
       "<table border=\"1\" class=\"dataframe\">\n",
       "  <thead>\n",
       "    <tr style=\"text-align: right;\">\n",
       "      <th></th>\n",
       "      <th>category_id</th>\n",
       "      <th>microcategory_id</th>\n",
       "      <th>item_id</th>\n",
       "      <th>event_type</th>\n",
       "      <th>source_event_type</th>\n",
       "      <th>request_id</th>\n",
       "      <th>location_id</th>\n",
       "      <th>event_age_seconds</th>\n",
       "    </tr>\n",
       "  </thead>\n",
       "  <tbody>\n",
       "    <tr>\n",
       "      <th>0</th>\n",
       "      <td>31</td>\n",
       "      <td>189</td>\n",
       "      <td>979366</td>\n",
       "      <td>0</td>\n",
       "      <td>0</td>\n",
       "      <td>136128</td>\n",
       "      <td>5215</td>\n",
       "      <td>2651288</td>\n",
       "    </tr>\n",
       "    <tr>\n",
       "      <th>1</th>\n",
       "      <td>31</td>\n",
       "      <td>6321</td>\n",
       "      <td>979366</td>\n",
       "      <td>2</td>\n",
       "      <td>8</td>\n",
       "      <td>136128</td>\n",
       "      <td>161</td>\n",
       "      <td>2651246</td>\n",
       "    </tr>\n",
       "    <tr>\n",
       "      <th>2</th>\n",
       "      <td>31</td>\n",
       "      <td>6321</td>\n",
       "      <td>979366</td>\n",
       "      <td>4</td>\n",
       "      <td>8</td>\n",
       "      <td>136128</td>\n",
       "      <td>5215</td>\n",
       "      <td>2651229</td>\n",
       "    </tr>\n",
       "    <tr>\n",
       "      <th>3</th>\n",
       "      <td>31</td>\n",
       "      <td>189</td>\n",
       "      <td>11420517</td>\n",
       "      <td>0</td>\n",
       "      <td>0</td>\n",
       "      <td>136128</td>\n",
       "      <td>5215</td>\n",
       "      <td>2651206</td>\n",
       "    </tr>\n",
       "    <tr>\n",
       "      <th>4</th>\n",
       "      <td>31</td>\n",
       "      <td>189</td>\n",
       "      <td>15674214</td>\n",
       "      <td>0</td>\n",
       "      <td>0</td>\n",
       "      <td>136128</td>\n",
       "      <td>5215</td>\n",
       "      <td>2651198</td>\n",
       "    </tr>\n",
       "  </tbody>\n",
       "</table>\n",
       "</div>"
      ],
      "text/plain": [
       "   category_id  microcategory_id   item_id  event_type  source_event_type  \\\n",
       "0           31               189    979366           0                  0   \n",
       "1           31              6321    979366           2                  8   \n",
       "2           31              6321    979366           4                  8   \n",
       "3           31               189  11420517           0                  0   \n",
       "4           31               189  15674214           0                  0   \n",
       "\n",
       "   request_id  location_id  event_age_seconds  \n",
       "0      136128         5215            2651288  \n",
       "1      136128          161            2651246  \n",
       "2      136128         5215            2651229  \n",
       "3      136128         5215            2651206  \n",
       "4      136128         5215            2651198  "
      ]
     },
     "execution_count": 3,
     "metadata": {},
     "output_type": "execute_result"
    }
   ],
   "source": [
    "import pandas as pd\n",
    "import numpy as np \n",
    "\n",
    "df_history = pd.read_parquet('history_train.pq')\n",
    "df_history.head()"
   ]
  },
  {
   "cell_type": "code",
   "execution_count": 4,
   "metadata": {},
   "outputs": [],
   "source": [
    "from scipy.sparse import coo_matrix\n",
    "\n",
    "def interactions_list_to_sparse_matrix(df):\n",
    "    return coo_matrix((df['source_event_type'].values, (df['item_id'].values, df['request_id'].values)),\n",
    "                             shape=(max(df['item_id'].values) + 1, max(df['request_id'].values) + 1))\n"
   ]
  },
  {
   "cell_type": "code",
   "execution_count": 5,
   "metadata": {},
   "outputs": [
    {
     "data": {
      "text/plain": [
       "<lightfm.lightfm.LightFM at 0x7ff8a47d1490>"
      ]
     },
     "execution_count": 5,
     "metadata": {},
     "output_type": "execute_result"
    }
   ],
   "source": [
    "from lightfm import LightFM\n",
    "from scipy.sparse import csr_matrix, csc_matrix \n",
    "\n",
    "\n",
    "model_features = LightFM(no_components=30)\n",
    "\n",
    "sparse_matrix = interactions_list_to_sparse_matrix(df_history)\n",
    "\n",
    "model_features.fit(sparse_matrix)\n"
   ]
  },
  {
   "cell_type": "code",
   "execution_count": 6,
   "metadata": {},
   "outputs": [
    {
     "data": {
      "text/plain": [
       "(209251,)"
      ]
     },
     "execution_count": 6,
     "metadata": {},
     "output_type": "execute_result"
    }
   ],
   "source": [
    "model_features.get_item_representations()[0].shape"
   ]
  },
  {
   "cell_type": "code",
   "execution_count": null,
   "metadata": {},
   "outputs": [],
   "source": []
  },
  {
   "cell_type": "code",
   "execution_count": null,
   "metadata": {},
   "outputs": [],
   "source": []
  },
  {
   "cell_type": "code",
   "execution_count": 7,
   "metadata": {},
   "outputs": [
    {
     "name": "stdout",
     "output_type": "stream",
     "text": [
      "Requirement already satisfied: lightgbm in ./.local/lib/python3.8/site-packages (3.3.3)\n",
      "Requirement already satisfied: scikit-learn!=0.22.0 in /usr/local/lib/python3.8/dist-packages (from lightgbm) (0.24.1)\n",
      "Requirement already satisfied: wheel in /usr/local/lib/python3.8/dist-packages (from lightgbm) (0.36.2)\n",
      "Requirement already satisfied: scipy in /usr/local/lib/python3.8/dist-packages (from lightgbm) (1.6.1)\n",
      "Requirement already satisfied: numpy in ./.local/lib/python3.8/site-packages (from lightgbm) (1.23.5)\n",
      "Requirement already satisfied: joblib>=0.11 in /usr/local/lib/python3.8/dist-packages (from scikit-learn!=0.22.0->lightgbm) (1.0.1)\n",
      "Requirement already satisfied: threadpoolctl>=2.0.0 in /usr/local/lib/python3.8/dist-packages (from scikit-learn!=0.22.0->lightgbm) (2.1.0)\n"
     ]
    }
   ],
   "source": [
    "!pip install lightgbm"
   ]
  },
  {
   "cell_type": "code",
   "execution_count": 8,
   "metadata": {},
   "outputs": [],
   "source": [
    "import random\n",
    "from typing import Optional\n",
    "\n",
    "import pandas as pd\n",
    "import lightgbm\n",
    "from lightgbm.callback import early_stopping\n",
    "\n",
    "TARGET = 'target'\n",
    "REQUEST_ID = 'request_id'"
   ]
  },
  {
   "cell_type": "code",
   "execution_count": 9,
   "metadata": {
    "colab": {
     "base_uri": "https://localhost:8080/",
     "height": 35
    },
    "executionInfo": {
     "elapsed": 25,
     "status": "ok",
     "timestamp": 1666790276061,
     "user": {
      "displayName": "Alexander Avdyushenko",
      "userId": "14828398385300582507"
     },
     "user_tz": -180
    },
    "id": "qIVtmClGPdWI",
    "outputId": "282a59f0-752a-4834-d9f2-4e37076a5f28"
   },
   "outputs": [
    {
     "data": {
      "text/plain": [
       "'1.2.2'"
      ]
     },
     "execution_count": 9,
     "metadata": {},
     "output_type": "execute_result"
    }
   ],
   "source": [
    "pd.__version__"
   ]
  },
  {
   "cell_type": "code",
   "execution_count": 10,
   "metadata": {
    "executionInfo": {
     "elapsed": 19,
     "status": "ok",
     "timestamp": 1666790276061,
     "user": {
      "displayName": "Alexander Avdyushenko",
      "userId": "14828398385300582507"
     },
     "user_tz": -180
    },
    "id": "qw-WBFB2PdWK"
   },
   "outputs": [],
   "source": [
    "def df_to_dict(df: pd.DataFrame):\n",
    "    return df.groupby(REQUEST_ID).item_id.apply(list).to_dict()\n",
    "\n",
    "def mapk_df(df_with_prediction: pd.DataFrame, k: int) -> float:\n",
    "    df_sorted = df_with_prediction.sort_values(['request_id', 'prediction'], ascending=[True, False])\n",
    "    df_sorted['rank'] = df_sorted.groupby('request_id').cumcount()\n",
    "    top = df_sorted[df_sorted['rank'] < k]\n",
    "    pred_dict = df_to_dict(top)\n",
    "    ans_dict = df_to_dict(df_sorted.query('target == 1'))\n",
    "    \n",
    "    predicted = []\n",
    "    actual = []\n",
    "    for k in ans_dict:\n",
    "        predicted.append(pred_dict[k])\n",
    "        actual.append(ans_dict[k])\n",
    "        \n",
    "    return mapk(actual, predicted, k)\n",
    "\n",
    "\n",
    "def apk(actual, predicted, k=30):\n",
    "\n",
    "    if not actual:\n",
    "        return 0.0\n",
    "\n",
    "    if len(predicted) > k:\n",
    "        predicted = predicted[:k]\n",
    "\n",
    "    score = 0.0\n",
    "    num_hits = 0.0\n",
    "    for i, p in enumerate(predicted):\n",
    "        # first condition checks whether it is valid prediction\n",
    "        # second condition checks if prediction is not repeated\n",
    "        if p in actual and p not in predicted[:i]:\n",
    "            num_hits += 1.0\n",
    "            score += num_hits / (i+1.0)\n",
    "\n",
    "    return score / min(len(actual), k)\n",
    "\n",
    "def mapk(actual, predicted, k=30):\n",
    "    return sum([apk(a, p, k) for a, p in zip(actual, predicted)]) / len(actual)\n",
    "    "
   ]
  },
  {
   "cell_type": "code",
   "execution_count": 11,
   "metadata": {},
   "outputs": [],
   "source": [
    "import numpy as np\n",
    "\n",
    "def get_group_for_lgb(sorted_vals):\n",
    "    curr_val = sorted_vals[0]\n",
    "    cnt = 1\n",
    "    groups = []\n",
    "    for val in sorted_vals[1:]:\n",
    "        if val != curr_val:\n",
    "            groups.append(cnt)\n",
    "            curr_val = val\n",
    "            cnt = 1\n",
    "        else:\n",
    "            cnt += 1\n",
    "\n",
    "    groups.append(cnt)\n",
    "\n",
    "    return groups\n",
    "\n",
    "\n",
    "\n",
    "class BaggingLightGBM:\n",
    "    def __init__(self, num_estimators):\n",
    "        self.num_estimators = num_estimators\n",
    "        self.k = num_estimators ** 0.5\n",
    "        self.models = []\n",
    "        \n",
    "    def _get_masks(self, n):\n",
    "        masks = []\n",
    "        for i in range(self.num_estimators):\n",
    "            masks.append(np.random.choice([True, False], n, p = [1 / self.k, 1 - (1 / self.k)]))\n",
    "        return masks\n",
    "    \n",
    "    def fit(self, train, val):\n",
    "        masks = self._get_masks(len(train))\n",
    "        for i in range(self.num_estimators):\n",
    "            trn_cur, val_cur = train.iloc[masks[i]], val\n",
    "            X_train, y_train, train_groups = trn_cur[features], trn_cur[TARGET], get_group_for_lgb(trn_cur[REQUEST_ID].values)\n",
    "            X_val, y_val, val_groups = val_cur[features], val_cur[TARGET], get_group_for_lgb(val_cur[REQUEST_ID].values)\n",
    "            lgb_train = lightgbm.Dataset(\n",
    "                X_train, y_train, categorical_feature=['category_id'],\n",
    "                group=train_groups, free_raw_data=False\n",
    "            )\n",
    "            lgb_eval = lightgbm.Dataset(\n",
    "                X_val, y_val, reference=lgb_train, categorical_feature=['category_id'],\n",
    "                group=val_groups, free_raw_data=False\n",
    "            )\n",
    "\n",
    "\n",
    "            model = lightgbm.train(\n",
    "                {'objective': 'binary', 'metric': 'map', 'eval_at': [8, 30], 'learning_rate': 0.05},\n",
    "                lgb_train,\n",
    "                valid_sets=[lgb_eval],\n",
    "                num_boost_round=500,\n",
    "                callbacks=[\n",
    "                    early_stopping(200),\n",
    "                    lightgbm.print_evaluation(10)\n",
    "                ],\n",
    "            )\n",
    "            self.models.append(model)\n",
    "        return self\n",
    "    \n",
    "    def predict(self, test):\n",
    "        return sum([self.models[i].predict(test) for i in range(len(self.models))]) / self.num_estimators\n",
    "        "
   ]
  },
  {
   "cell_type": "code",
   "execution_count": 12,
   "metadata": {
    "executionInfo": {
     "elapsed": 19,
     "status": "ok",
     "timestamp": 1666790276062,
     "user": {
      "displayName": "Alexander Avdyushenko",
      "userId": "14828398385300582507"
     },
     "user_tz": -180
    },
    "id": "R4xzuSdvPdWL"
   },
   "outputs": [],
   "source": [
    "\n",
    "def train_val_test_split(\n",
    "        df: pd.DataFrame,\n",
    "        split_column: str,\n",
    "        val_part: float = 0.1,\n",
    "        test_part: float = 0.1,\n",
    "        seed: int = 32,\n",
    ") -> (pd.DataFrame, pd.DataFrame, pd.DataFrame):\n",
    "    random.seed(seed)\n",
    "    unique_values = df[split_column].unique().tolist()\n",
    "    random.shuffle(unique_values)\n",
    "    val_start = int(len(unique_values) * (1 - val_part - test_part))\n",
    "    test_start = int(len(unique_values) * (1 - test_part))\n",
    "    train_ids = unique_values[:val_start]\n",
    "    val_ids = unique_values[val_start: test_start]\n",
    "    test_ids = unique_values[test_start:]\n",
    "\n",
    "    return (\n",
    "        df[df[split_column].isin(train_ids)],\n",
    "        df[df[split_column].isin(val_ids)],\n",
    "        df[df[split_column].isin(test_ids)],\n",
    "    )\n",
    "\n",
    "\n",
    "\n",
    "def train_lightgbm(ranking_df: pd.DataFrame, features: list):\n",
    "    train, val, test = train_val_test_split(ranking_df, REQUEST_ID, val_part=0.1, test_part=0.1)\n",
    "    X_train, y_train, train_groups = train[features], train[TARGET], get_group_for_lgb(train[REQUEST_ID].values)\n",
    "    X_val, y_val, val_groups = val[features], val[TARGET], get_group_for_lgb(val[REQUEST_ID].values)\n",
    "\n",
    "    lgb_train = lightgbm.Dataset(\n",
    "        X_train, y_train, categorical_feature=['category_id'],\n",
    "        group=train_groups, free_raw_data=False\n",
    "    )\n",
    "    lgb_eval = lightgbm.Dataset(\n",
    "        X_val, y_val, reference=lgb_train, categorical_feature=['category_id'],\n",
    "        group=val_groups, free_raw_data=False\n",
    "    )\n",
    "\n",
    "\n",
    "    model = lightgbm.train(\n",
    "        {'objective': 'binary', 'metric': 'map', 'eval_at': [8, 30], 'learning_rate': 0.05},\n",
    "        lgb_train,\n",
    "        valid_sets=[lgb_eval],\n",
    "        num_boost_round=550,\n",
    "        callbacks=[\n",
    "            lightgbm.print_evaluation(10)\n",
    "        ],\n",
    "    )\n",
    "    \n",
    "    test['prediction'] = model.predict(test[features])\n",
    "    print(f'map@30 on holdout test: {mapk_df(test, 30)}')\n",
    "\n",
    "    return model"
   ]
  },
  {
   "cell_type": "code",
   "execution_count": 13,
   "metadata": {
    "colab": {
     "base_uri": "https://localhost:8080/"
    },
    "executionInfo": {
     "elapsed": 2993,
     "status": "ok",
     "timestamp": 1666790279037,
     "user": {
      "displayName": "Alexander Avdyushenko",
      "userId": "14828398385300582507"
     },
     "user_tz": -180
    },
    "id": "V2LC3gUSPdWM",
    "outputId": "94e24153-8554-48f9-d5ab-1a5e8a3dc537"
   },
   "outputs": [
    {
     "name": "stdout",
     "output_type": "stream",
     "text": [
      "Requirement already satisfied: pyarrow in ./.local/lib/python3.8/site-packages (10.0.0)\r\n",
      "Requirement already satisfied: numpy>=1.16.6 in ./.local/lib/python3.8/site-packages (from pyarrow) (1.23.5)\r\n"
     ]
    }
   ],
   "source": [
    "!pip install pyarrow "
   ]
  },
  {
   "cell_type": "code",
   "execution_count": 14,
   "metadata": {
    "executionInfo": {
     "elapsed": 1225,
     "status": "ok",
     "timestamp": 1666790957229,
     "user": {
      "displayName": "Alexander Avdyushenko",
      "userId": "14828398385300582507"
     },
     "user_tz": -180
    },
    "id": "iFWm2hcVe40E"
   },
   "outputs": [],
   "source": [
    "import random\n",
    "from typing import Optional\n",
    "\n",
    "import pandas as pd\n",
    "import lightgbm\n",
    "from lightgbm.callback import early_stopping\n",
    "\n",
    "TARGET = 'target'\n",
    "REQUEST_ID = 'request_id'"
   ]
  },
  {
   "cell_type": "code",
   "execution_count": null,
   "metadata": {
    "colab": {
     "base_uri": "https://localhost:8080/"
    },
    "executionInfo": {
     "elapsed": 2621,
     "status": "ok",
     "timestamp": 1666790959847,
     "user": {
      "displayName": "Alexander Avdyushenko",
      "userId": "14828398385300582507"
     },
     "user_tz": -180
    },
    "id": "D0JDfyE9Porm",
    "outputId": "45407743-d22f-4e1f-9dab-1184d0a2b201"
   },
   "outputs": [],
   "source": []
  },
  {
   "cell_type": "code",
   "execution_count": 15,
   "metadata": {
    "colab": {
     "base_uri": "https://localhost:8080/"
    },
    "executionInfo": {
     "elapsed": 380,
     "status": "ok",
     "timestamp": 1666790962715,
     "user": {
      "displayName": "Alexander Avdyushenko",
      "userId": "14828398385300582507"
     },
     "user_tz": -180
    },
    "id": "fGELV-ulPtUx",
    "outputId": "0bd9ea4d-8fc2-485c-f097-c90953f808a0"
   },
   "outputs": [
    {
     "name": "stdout",
     "output_type": "stream",
     "text": [
      " copy-of-ml-1-shad-fall-2022.zip      'lightgbm-baseline (2).ipynb'\r\n",
      " data\t\t\t\t       lightgbm-baseline.ipynb\r\n",
      " data_cv.zip\t\t\t       model_17_epoch.pt\r\n",
      " dssm_competition.ipynb\t\t       model_27_epoch.pt\r\n",
      " history_test.pq\t\t       PageRank.ipynb\r\n",
      " history_train.pq\t\t       __pycache__\r\n",
      " history_train_sample.pq\t       requests_embeddings_baseline.npy\r\n",
      "'homework_part1_detection_(1).ipynb'   requests_test.pq\r\n",
      " homework-part1-segmentation.ipynb     requests_train.pq\r\n",
      "'homework_part2 (1) (1).ipynb'\t       requests_train_sample.pq\r\n",
      "'homework_part2 (1).ipynb'\t       seminar_nlp_2.ipynb\r\n",
      " homework_pytorch.ipynb\t\t       test.csv\r\n",
      " items_embeddings_baseline.npy\t       test_mod_v3.csv\r\n",
      " items_test.pq\t\t\t       train_mod.csv\r\n",
      " items_train.pq\t\t\t       train_mod_v3.csv\r\n",
      " items_train_sample.pq\t\t       Untitled1.ipynb\r\n",
      " kaggle.json\t\t\t       Untitled2.ipynb\r\n",
      " lgbm_baseline.csv\t\t       Untitled3.ipynb\r\n",
      " lgbm_baseline_old_train.txt\t       Untitled.ipynb\r\n",
      " lgbm_svd_baseline_2.csv\t       voc_data\r\n",
      " lgbm_svd_baseline.csv\t\t       week1_nets.ipynb\r\n"
     ]
    }
   ],
   "source": [
    "!ls"
   ]
  },
  {
   "cell_type": "code",
   "execution_count": 16,
   "metadata": {
    "executionInfo": {
     "elapsed": 306,
     "status": "ok",
     "timestamp": 1666790972211,
     "user": {
      "displayName": "Alexander Avdyushenko",
      "userId": "14828398385300582507"
     },
     "user_tz": -180
    },
    "id": "BK9N3MExPdWM"
   },
   "outputs": [],
   "source": [
    "path_to_data = ''"
   ]
  },
  {
   "cell_type": "code",
   "execution_count": 29,
   "metadata": {
    "id": "DPaHO7lEe9ca"
   },
   "outputs": [],
   "source": [
    "train = pd.read_parquet(path_to_data + 'items_train.pq')"
   ]
  },
  {
   "cell_type": "code",
   "execution_count": null,
   "metadata": {},
   "outputs": [],
   "source": []
  },
  {
   "cell_type": "markdown",
   "metadata": {},
   "source": [
    "### Внедряем LightFM"
   ]
  },
  {
   "cell_type": "code",
   "execution_count": null,
   "metadata": {},
   "outputs": [],
   "source": []
  },
  {
   "cell_type": "code",
   "execution_count": null,
   "metadata": {},
   "outputs": [],
   "source": []
  },
  {
   "cell_type": "code",
   "execution_count": 30,
   "metadata": {},
   "outputs": [],
   "source": [
    "from tqdm.auto import trange\n",
    "\n",
    "train[f'item_emb_'] = train['item_id'].apply(lambda x: model_features.get_user_representations()[0][x])\n",
    "train[f'req_emb_'] = train['request_id'].apply(lambda x: model_features.get_item_representations()[0][x])\n"
   ]
  },
  {
   "cell_type": "code",
   "execution_count": null,
   "metadata": {},
   "outputs": [],
   "source": []
  },
  {
   "cell_type": "code",
   "execution_count": 31,
   "metadata": {
    "colab": {
     "base_uri": "https://localhost:8080/"
    },
    "executionInfo": {
     "elapsed": 5,
     "status": "ok",
     "timestamp": 1666790316874,
     "user": {
      "displayName": "Alexander Avdyushenko",
      "userId": "14828398385300582507"
     },
     "user_tz": -180
    },
    "id": "GqEwFbLiTFaI",
    "outputId": "2e2ca443-a613-41a5-c571-669cfb334922"
   },
   "outputs": [
    {
     "data": {
      "text/plain": [
       "135412"
      ]
     },
     "execution_count": 31,
     "metadata": {},
     "output_type": "execute_result"
    }
   ],
   "source": [
    "request_ids = train.request_id.unique()\n",
    "len(request_ids)"
   ]
  },
  {
   "cell_type": "code",
   "execution_count": 32,
   "metadata": {
    "executionInfo": {
     "elapsed": 301,
     "status": "ok",
     "timestamp": 1666790976672,
     "user": {
      "displayName": "Alexander Avdyushenko",
      "userId": "14828398385300582507"
     },
     "user_tz": -180
    },
    "id": "Pri-YmlkPdWN"
   },
   "outputs": [],
   "source": [
    "features = [\n",
    "       'category_id',\n",
    "       'model_a_score',\n",
    "       'model_a_rank', \n",
    "       'model_b_score',\n",
    "       'model_b_rank', \n",
    "       'model_b_f1',\n",
    "       'model_b_f2',\n",
    "       'model_b_f3',\n",
    "       'model_c_score',\n",
    "       'model_c_rank',\n",
    "       'model_d_score',\n",
    "       'model_d_rank', \n",
    "       'shows_count', \n",
    "       'microcategory_id',\n",
    "       'location_id',\n",
    "       'price', \n",
    "       'sort_age', \n",
    "       'start_age',\n",
    "       'latitude',\n",
    "       'longitude',\n",
    "       'item_stats.days',\n",
    "       'item_stats.contact_conversion', \n",
    "       'item_stats.hides', \n",
    "       'item_stats.shows',\n",
    "       'item_stats.shows_last_day',\n",
    "       'item_stats.shows_rec',\n",
    "       'item_stats.shows_rec_last_day', \n",
    "       'item_stats.contacts',\n",
    "       'item_stats.contacts_last_day', \n",
    "       'item_stats.contacts_rec_last_day',\n",
    "       'item_stats.contacts_rec', \n",
    "       'item_stats.last_contacts',\n",
    "       'item_stats.delayed_contacts',\n",
    "       'item_stats.delayed_contacts_rec',\n",
    "       'item_stats.clicks', \n",
    "       'item_stats.clicks_rec', \n",
    "       'item_stats.last_clicks',\n",
    "       'item_stats.long_clicks',\n",
    "       'item_stats.clicks_last_day',\n",
    "       'item_stats.clicks_rec_last_day',\n",
    "       'item_stats.segment_contact_conversion',\n",
    "       'item_stats.seller_contact_conversion',\n",
    "       'item_stats.segment_click_conversion',\n",
    "       'item_stats.seller_click_conversion',\n",
    "       'item_emb_',\n",
    "       'req_emb_',\n",
    "\n",
    "]"
   ]
  },
  {
   "cell_type": "code",
   "execution_count": 33,
   "metadata": {
    "colab": {
     "base_uri": "https://localhost:8080/"
    },
    "executionInfo": {
     "elapsed": 122232,
     "status": "ok",
     "timestamp": 1666790482052,
     "user": {
      "displayName": "Alexander Avdyushenko",
      "userId": "14828398385300582507"
     },
     "user_tz": -180
    },
    "id": "3GPJeBYMPdWO",
    "outputId": "95109833-cca5-4170-a518-02183407f424"
   },
   "outputs": [
    {
     "name": "stderr",
     "output_type": "stream",
     "text": [
      "/home/kivedernikov/.local/lib/python3.8/site-packages/lightgbm/callback.py:57: UserWarning: 'print_evaluation()' callback is deprecated and will be removed in a future release of LightGBM. Use 'log_evaluation()' callback instead.\n",
      "  _log_warning(\"'print_evaluation()' callback is deprecated and will be removed in a future release of LightGBM. \"\n",
      "/home/kivedernikov/.local/lib/python3.8/site-packages/lightgbm/basic.py:2065: UserWarning: Using categorical_feature in Dataset.\n",
      "  _log_warning('Using categorical_feature in Dataset.')\n"
     ]
    },
    {
     "name": "stdout",
     "output_type": "stream",
     "text": [
      "[LightGBM] [Info] Number of positive: 176182, number of negative: 32322518\n",
      "[LightGBM] [Info] Total groups: 108329, total data: 32498700\n",
      "[LightGBM] [Warning] Auto-choosing row-wise multi-threading, the overhead of testing was 1.401281 seconds.\n",
      "You can set `force_row_wise=true` to remove the overhead.\n",
      "And if memory is not enough, you can set `force_col_wise=true`.\n",
      "[LightGBM] [Info] Total Bins 10353\n",
      "[LightGBM] [Info] Number of data points in the train set: 32498700, number of used features: 46\n"
     ]
    },
    {
     "name": "stderr",
     "output_type": "stream",
     "text": [
      "/home/kivedernikov/.local/lib/python3.8/site-packages/lightgbm/basic.py:1780: UserWarning: Overriding the parameters from Reference Dataset.\n",
      "  _log_warning('Overriding the parameters from Reference Dataset.')\n",
      "/home/kivedernikov/.local/lib/python3.8/site-packages/lightgbm/basic.py:1513: UserWarning: categorical_column in param dict is overridden.\n",
      "  _log_warning(f'{cat_alias} in param dict is overridden.')\n"
     ]
    },
    {
     "name": "stdout",
     "output_type": "stream",
     "text": [
      "[LightGBM] [Info] Total groups: 13541, total data: 4062300\n",
      "[LightGBM] [Info] [binary:BoostFromScore]: pavg=0.005421 -> initscore=-5.212002\n",
      "[LightGBM] [Info] Start training from score -5.212002\n",
      "[10]\tvalid_0's map@8: 0.102951\tvalid_0's map@30: 0.117289\n",
      "[20]\tvalid_0's map@8: 0.108913\tvalid_0's map@30: 0.12365\n",
      "[30]\tvalid_0's map@8: 0.112405\tvalid_0's map@30: 0.127569\n",
      "[40]\tvalid_0's map@8: 0.115701\tvalid_0's map@30: 0.131066\n",
      "[50]\tvalid_0's map@8: 0.118042\tvalid_0's map@30: 0.133507\n",
      "[60]\tvalid_0's map@8: 0.120364\tvalid_0's map@30: 0.135926\n",
      "[70]\tvalid_0's map@8: 0.122313\tvalid_0's map@30: 0.13803\n",
      "[80]\tvalid_0's map@8: 0.124618\tvalid_0's map@30: 0.140404\n",
      "[90]\tvalid_0's map@8: 0.125718\tvalid_0's map@30: 0.141832\n",
      "[100]\tvalid_0's map@8: 0.127194\tvalid_0's map@30: 0.143454\n",
      "[110]\tvalid_0's map@8: 0.128342\tvalid_0's map@30: 0.144639\n",
      "[120]\tvalid_0's map@8: 0.129149\tvalid_0's map@30: 0.145622\n",
      "[130]\tvalid_0's map@8: 0.130464\tvalid_0's map@30: 0.146926\n",
      "[140]\tvalid_0's map@8: 0.131606\tvalid_0's map@30: 0.148123\n",
      "[150]\tvalid_0's map@8: 0.132594\tvalid_0's map@30: 0.149214\n",
      "[160]\tvalid_0's map@8: 0.133562\tvalid_0's map@30: 0.150365\n",
      "[170]\tvalid_0's map@8: 0.134768\tvalid_0's map@30: 0.151587\n",
      "[180]\tvalid_0's map@8: 0.135686\tvalid_0's map@30: 0.152564\n",
      "[190]\tvalid_0's map@8: 0.136208\tvalid_0's map@30: 0.153194\n",
      "[200]\tvalid_0's map@8: 0.136451\tvalid_0's map@30: 0.153456\n",
      "[210]\tvalid_0's map@8: 0.137129\tvalid_0's map@30: 0.154163\n",
      "[220]\tvalid_0's map@8: 0.13786\tvalid_0's map@30: 0.155003\n",
      "[230]\tvalid_0's map@8: 0.138575\tvalid_0's map@30: 0.15568\n",
      "[240]\tvalid_0's map@8: 0.138958\tvalid_0's map@30: 0.156137\n",
      "[250]\tvalid_0's map@8: 0.139498\tvalid_0's map@30: 0.156795\n",
      "[260]\tvalid_0's map@8: 0.139756\tvalid_0's map@30: 0.157129\n",
      "[270]\tvalid_0's map@8: 0.140227\tvalid_0's map@30: 0.157575\n",
      "[280]\tvalid_0's map@8: 0.140867\tvalid_0's map@30: 0.158254\n",
      "[290]\tvalid_0's map@8: 0.1409\tvalid_0's map@30: 0.158364\n",
      "[300]\tvalid_0's map@8: 0.141632\tvalid_0's map@30: 0.159061\n",
      "[310]\tvalid_0's map@8: 0.142031\tvalid_0's map@30: 0.15951\n",
      "[320]\tvalid_0's map@8: 0.14214\tvalid_0's map@30: 0.159645\n",
      "[330]\tvalid_0's map@8: 0.142471\tvalid_0's map@30: 0.160004\n",
      "[340]\tvalid_0's map@8: 0.142773\tvalid_0's map@30: 0.160342\n",
      "[350]\tvalid_0's map@8: 0.14298\tvalid_0's map@30: 0.16066\n",
      "[360]\tvalid_0's map@8: 0.143512\tvalid_0's map@30: 0.161194\n",
      "[370]\tvalid_0's map@8: 0.143386\tvalid_0's map@30: 0.161071\n",
      "[380]\tvalid_0's map@8: 0.143473\tvalid_0's map@30: 0.161167\n",
      "[390]\tvalid_0's map@8: 0.143455\tvalid_0's map@30: 0.161177\n",
      "[400]\tvalid_0's map@8: 0.143811\tvalid_0's map@30: 0.161472\n",
      "[410]\tvalid_0's map@8: 0.143813\tvalid_0's map@30: 0.161434\n",
      "[420]\tvalid_0's map@8: 0.143866\tvalid_0's map@30: 0.161519\n",
      "[430]\tvalid_0's map@8: 0.143926\tvalid_0's map@30: 0.161638\n",
      "[440]\tvalid_0's map@8: 0.144061\tvalid_0's map@30: 0.161732\n",
      "[450]\tvalid_0's map@8: 0.144021\tvalid_0's map@30: 0.161699\n",
      "[460]\tvalid_0's map@8: 0.14408\tvalid_0's map@30: 0.161822\n",
      "[470]\tvalid_0's map@8: 0.144044\tvalid_0's map@30: 0.161744\n",
      "[480]\tvalid_0's map@8: 0.144068\tvalid_0's map@30: 0.161783\n",
      "[490]\tvalid_0's map@8: 0.144279\tvalid_0's map@30: 0.16204\n",
      "[500]\tvalid_0's map@8: 0.144333\tvalid_0's map@30: 0.162057\n",
      "[510]\tvalid_0's map@8: 0.144515\tvalid_0's map@30: 0.162255\n",
      "[520]\tvalid_0's map@8: 0.144599\tvalid_0's map@30: 0.162363\n",
      "[530]\tvalid_0's map@8: 0.144388\tvalid_0's map@30: 0.162286\n",
      "[540]\tvalid_0's map@8: 0.14447\tvalid_0's map@30: 0.162326\n",
      "[550]\tvalid_0's map@8: 0.144601\tvalid_0's map@30: 0.162541\n"
     ]
    },
    {
     "name": "stderr",
     "output_type": "stream",
     "text": [
      "<ipython-input-12-ba2bdfb119e7>:50: SettingWithCopyWarning: \n",
      "A value is trying to be set on a copy of a slice from a DataFrame.\n",
      "Try using .loc[row_indexer,col_indexer] = value instead\n",
      "\n",
      "See the caveats in the documentation: https://pandas.pydata.org/pandas-docs/stable/user_guide/indexing.html#returning-a-view-versus-a-copy\n",
      "  test['prediction'] = model.predict(test[features])\n"
     ]
    },
    {
     "name": "stdout",
     "output_type": "stream",
     "text": [
      "map@30 on holdout test: 0.15626782954543683\n"
     ]
    }
   ],
   "source": [
    "model = train_lightgbm(train, features)"
   ]
  },
  {
   "cell_type": "markdown",
   "metadata": {},
   "source": [
    "0.15626782954543683 - 0.15128"
   ]
  },
  {
   "cell_type": "code",
   "execution_count": 36,
   "metadata": {
    "executionInfo": {
     "elapsed": 334,
     "status": "ok",
     "timestamp": 1666790488974,
     "user": {
      "displayName": "Alexander Avdyushenko",
      "userId": "14828398385300582507"
     },
     "user_tz": -180
    },
    "id": "UUA8jMWxNNo7"
   },
   "outputs": [],
   "source": [
    "del train"
   ]
  },
  {
   "cell_type": "code",
   "execution_count": 34,
   "metadata": {
    "colab": {
     "base_uri": "https://localhost:8080/"
    },
    "executionInfo": {
     "elapsed": 3,
     "status": "ok",
     "timestamp": 1666790696976,
     "user": {
      "displayName": "Alexander Avdyushenko",
      "userId": "14828398385300582507"
     },
     "user_tz": -180
    },
    "id": "nTScAW4nccZh",
    "outputId": "d6f9aa73-38b1-4921-861d-ef3c1ae1f8cc"
   },
   "outputs": [
    {
     "data": {
      "text/plain": [
       "<lightgbm.basic.Booster at 0x7ff8a47d1130>"
      ]
     },
     "execution_count": 34,
     "metadata": {},
     "output_type": "execute_result"
    }
   ],
   "source": [
    "model.save_model('lgbm_baseline_old_train.txt')"
   ]
  },
  {
   "cell_type": "code",
   "execution_count": 35,
   "metadata": {
    "executionInfo": {
     "elapsed": 650,
     "status": "ok",
     "timestamp": 1666790984165,
     "user": {
      "displayName": "Alexander Avdyushenko",
      "userId": "14828398385300582507"
     },
     "user_tz": -180
    },
    "id": "AnlA-SnHckfB"
   },
   "outputs": [],
   "source": [
    "# load from model:\n",
    "model = lightgbm.Booster(model_file='lgbm_baseline_old_train.txt')"
   ]
  },
  {
   "cell_type": "code",
   "execution_count": 37,
   "metadata": {
    "executionInfo": {
     "elapsed": 16243,
     "status": "ok",
     "timestamp": 1666791010837,
     "user": {
      "displayName": "Alexander Avdyushenko",
      "userId": "14828398385300582507"
     },
     "user_tz": -180
    },
    "id": "-mF1_-Hjl_Vn"
   },
   "outputs": [],
   "source": [
    "test = pd.read_parquet(path_to_data + 'items_test.pq')"
   ]
  },
  {
   "cell_type": "code",
   "execution_count": 38,
   "metadata": {},
   "outputs": [],
   "source": [
    "from tqdm.auto import trange\n",
    "\n",
    "test[f'item_emb_'] = test['item_id'].apply(lambda x: model_features.get_user_representations()[0][x] if x < len( model_features.get_user_representations()[0]) else 0)\n",
    "test[f'req_emb_'] = test['request_id'].apply(lambda x: model_features.get_item_representations()[0][x] if x < len( model_features.get_user_representations()[0]) else 0)\n"
   ]
  },
  {
   "cell_type": "code",
   "execution_count": 39,
   "metadata": {
    "executionInfo": {
     "elapsed": 12,
     "status": "ok",
     "timestamp": 1666791010838,
     "user": {
      "displayName": "Alexander Avdyushenko",
      "userId": "14828398385300582507"
     },
     "user_tz": -180
    },
    "id": "4lMAUg8iPdWP"
   },
   "outputs": [],
   "source": [
    "def create_submission(filename, model, test, k: int = 30):\n",
    "    test['pred'] = model.predict(test[model.feature_name()])\n",
    "    test_sorted = test.sort_values(['request_id', 'pred'], ascending=[True, False])\n",
    "    test_sorted['rank'] = test_sorted.groupby('request_id').cumcount()\n",
    "    top = test_sorted[test_sorted['rank'] < k]\n",
    "    subm = top[['request_id', 'item_id']].groupby('request_id')['item_id'].apply(lambda x: ' '.join(map(str, x)))\n",
    "    subm_df = subm.to_frame().reset_index().rename(columns={'item_id': 'item_ids'})\n",
    "    subm_df.to_csv(filename, index=False)"
   ]
  },
  {
   "cell_type": "code",
   "execution_count": 40,
   "metadata": {
    "id": "kgnkHzoaPdWP"
   },
   "outputs": [],
   "source": [
    "create_submission('lgbm_svd_baseline_3.csv', model, test)"
   ]
  },
  {
   "cell_type": "code",
   "execution_count": null,
   "metadata": {
    "colab": {
     "base_uri": "https://localhost:8080/"
    },
    "executionInfo": {
     "elapsed": 513,
     "status": "ok",
     "timestamp": 1666709031420,
     "user": {
      "displayName": "Alexander Avdyushenko",
      "userId": "14828398385300582507"
     },
     "user_tz": -180
    },
    "id": "UhHnyBVkPdWQ",
    "outputId": "4c1ff92b-095b-480a-9171-cfa7851bfca2"
   },
   "outputs": [],
   "source": []
  },
  {
   "cell_type": "code",
   "execution_count": null,
   "metadata": {
    "id": "uTKiEDYVmYMs"
   },
   "outputs": [],
   "source": [
    "test.head(10)"
   ]
  },
  {
   "cell_type": "code",
   "execution_count": null,
   "metadata": {},
   "outputs": [],
   "source": []
  }
 ],
 "metadata": {
  "accelerator": "GPU",
  "colab": {
   "collapsed_sections": [],
   "machine_shape": "hm",
   "provenance": []
  },
  "gpuClass": "standard",
  "kernelspec": {
   "display_name": "Python 3",
   "language": "python",
   "name": "python3"
  },
  "language_info": {
   "codemirror_mode": {
    "name": "ipython",
    "version": 3
   },
   "file_extension": ".py",
   "mimetype": "text/x-python",
   "name": "python",
   "nbconvert_exporter": "python",
   "pygments_lexer": "ipython3",
   "version": "3.8.10"
  },
  "vscode": {
   "interpreter": {
    "hash": "40d3a090f54c6569ab1632332b64b2c03c39dcf918b08424e98f38b5ae0af88f"
   }
  }
 },
 "nbformat": 4,
 "nbformat_minor": 1
}
